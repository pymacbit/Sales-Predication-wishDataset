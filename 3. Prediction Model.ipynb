{
 "cells": [
  {
   "cell_type": "code",
   "execution_count": 1,
   "metadata": {
    "executionInfo": {
     "elapsed": 3670,
     "status": "ok",
     "timestamp": 1601651333184,
     "user": {
      "displayName": "Yatindra",
      "photoUrl": "https://lh3.googleusercontent.com/a-/AOh14GgyhRMwXEEqCncav1ghTui26QU38n9q8A3LHE_ktw=s64",
      "userId": "15503128090634612331"
     },
     "user_tz": -330
    },
    "id": "jYRLngHm2qvb"
   },
   "outputs": [],
   "source": [
    "import numpy as np \n",
    "import pandas as pd \n",
    "import math\n",
    "\n",
    "import matplotlib.pyplot as plt \n",
    "from matplotlib import style\n",
    "# style.use('fivethirtyeight')\n",
    "style.use('ggplot')\n",
    "\n",
    "import plotly.express as px\n",
    "import plotly.graph_objects as go\n",
    "\n",
    "# Data Visualization\n",
    "import seaborn as sns\n",
    "\n",
    "from sklearn import metrics\n",
    "from sklearn.linear_model import LinearRegression\n",
    "from sklearn.model_selection import train_test_split\n",
    "from sklearn.preprocessing import StandardScaler"
   ]
  },
  {
   "cell_type": "markdown",
   "metadata": {
    "id": "ukev0M_24Qpx"
   },
   "source": [
    "NOte : Execute below cells only if running on google colab for getting the dataset"
   ]
  },
  {
   "cell_type": "code",
   "execution_count": 2,
   "metadata": {
    "colab": {
     "base_uri": "https://localhost:8080/",
     "height": 85
    },
    "executionInfo": {
     "elapsed": 2096,
     "status": "ok",
     "timestamp": 1601651341102,
     "user": {
      "displayName": "Yatindra",
      "photoUrl": "https://lh3.googleusercontent.com/a-/AOh14GgyhRMwXEEqCncav1ghTui26QU38n9q8A3LHE_ktw=s64",
      "userId": "15503128090634612331"
     },
     "user_tz": -330
    },
    "id": "UWhe5Tv42-M_",
    "outputId": "7ba85830-0102-4db1-cb82-481fa440d2a8"
   },
   "outputs": [
    {
     "name": "stdout",
     "output_type": "stream",
     "text": [
      "Downloading...\n",
      "From: https://drive.google.com/uc?id=192h8LDFatS7r8GHI6trlegkheGKgBVdE\n",
      "To: /content/CleanDF.csv\n",
      "100% 747k/747k [00:00<00:00, 47.1MB/s]\n"
     ]
    }
   ],
   "source": [
    "!gdown --id 192h8LDFatS7r8GHI6trlegkheGKgBVdE --output CleanDF.csv"
   ]
  },
  {
   "cell_type": "code",
   "execution_count": 3,
   "metadata": {
    "colab": {
     "base_uri": "https://localhost:8080/",
     "height": 264
    },
    "executionInfo": {
     "elapsed": 1158,
     "status": "ok",
     "timestamp": 1601651343425,
     "user": {
      "displayName": "Yatindra",
      "photoUrl": "https://lh3.googleusercontent.com/a-/AOh14GgyhRMwXEEqCncav1ghTui26QU38n9q8A3LHE_ktw=s64",
      "userId": "15503128090634612331"
     },
     "user_tz": -330
    },
    "id": "ZQlJ40AR2qvg",
    "outputId": "04d349fc-f0ba-460d-8eee-eb7a38c42fc6"
   },
   "outputs": [
    {
     "data": {
      "text/html": [
       "<div>\n",
       "<style scoped>\n",
       "    .dataframe tbody tr th:only-of-type {\n",
       "        vertical-align: middle;\n",
       "    }\n",
       "\n",
       "    .dataframe tbody tr th {\n",
       "        vertical-align: top;\n",
       "    }\n",
       "\n",
       "    .dataframe thead th {\n",
       "        text-align: right;\n",
       "    }\n",
       "</style>\n",
       "<table border=\"1\" class=\"dataframe\">\n",
       "  <thead>\n",
       "    <tr style=\"text-align: right;\">\n",
       "      <th></th>\n",
       "      <th>title_translated</th>\n",
       "      <th>listed_price</th>\n",
       "      <th>retail_price</th>\n",
       "      <th>units_sold</th>\n",
       "      <th>uses_ad_boosts</th>\n",
       "      <th>rating</th>\n",
       "      <th>rating_count</th>\n",
       "      <th>rating_five_count</th>\n",
       "      <th>rating_four_count</th>\n",
       "      <th>rating_three_count</th>\n",
       "      <th>rating_two_count</th>\n",
       "      <th>rating_one_count</th>\n",
       "      <th>badge_product_quality</th>\n",
       "      <th>tags</th>\n",
       "      <th>product_color</th>\n",
       "      <th>product_variation_size_id</th>\n",
       "      <th>product_variation_inventory</th>\n",
       "      <th>shipping_option_price</th>\n",
       "      <th>countries_shipped_to</th>\n",
       "      <th>has_urgency_banner</th>\n",
       "      <th>urgency_text</th>\n",
       "      <th>merchant_rating_count</th>\n",
       "      <th>merchant_rating</th>\n",
       "      <th>merchant_id</th>\n",
       "      <th>product_picture</th>\n",
       "      <th>product_id</th>\n",
       "    </tr>\n",
       "  </thead>\n",
       "  <tbody>\n",
       "    <tr>\n",
       "      <th>0</th>\n",
       "      <td>2020 Summer Vintage Flamingo Print  Pajamas Se...</td>\n",
       "      <td>16.0</td>\n",
       "      <td>14</td>\n",
       "      <td>100</td>\n",
       "      <td>0</td>\n",
       "      <td>3.76</td>\n",
       "      <td>54</td>\n",
       "      <td>26.0</td>\n",
       "      <td>8.0</td>\n",
       "      <td>10.0</td>\n",
       "      <td>1.0</td>\n",
       "      <td>9.0</td>\n",
       "      <td>0</td>\n",
       "      <td>('summer', 'fashion', 'womenunderwearsuit', 'p...</td>\n",
       "      <td>white</td>\n",
       "      <td>M</td>\n",
       "      <td>50</td>\n",
       "      <td>4</td>\n",
       "      <td>34</td>\n",
       "      <td>1</td>\n",
       "      <td>QuantityLimited</td>\n",
       "      <td>568</td>\n",
       "      <td>4.128521</td>\n",
       "      <td>595097d6a26f6e070cb878d1</td>\n",
       "      <td>https://contestimg.wish.com/api/webimage/5e9ae...</td>\n",
       "      <td>5e9ae51d43d6a96e303acdb0</td>\n",
       "    </tr>\n",
       "    <tr>\n",
       "      <th>1</th>\n",
       "      <td>Women's Casual Summer Sleeveless Sexy Mini Dress</td>\n",
       "      <td>8.0</td>\n",
       "      <td>22</td>\n",
       "      <td>20000</td>\n",
       "      <td>1</td>\n",
       "      <td>3.45</td>\n",
       "      <td>6135</td>\n",
       "      <td>2269.0</td>\n",
       "      <td>1027.0</td>\n",
       "      <td>1118.0</td>\n",
       "      <td>644.0</td>\n",
       "      <td>1077.0</td>\n",
       "      <td>0</td>\n",
       "      <td>('mini', 'womens dresses', 'summer', 'patchwor...</td>\n",
       "      <td>green</td>\n",
       "      <td>XS</td>\n",
       "      <td>50</td>\n",
       "      <td>2</td>\n",
       "      <td>41</td>\n",
       "      <td>1</td>\n",
       "      <td>QuantityLimited</td>\n",
       "      <td>17752</td>\n",
       "      <td>3.899673</td>\n",
       "      <td>56458aa03a698c35c9050988</td>\n",
       "      <td>https://contestimg.wish.com/api/webimage/58940...</td>\n",
       "      <td>58940d436a0d3d5da4e95a38</td>\n",
       "    </tr>\n",
       "    <tr>\n",
       "      <th>2</th>\n",
       "      <td>2020 New Arrival Women Spring and Summer Beach...</td>\n",
       "      <td>8.0</td>\n",
       "      <td>43</td>\n",
       "      <td>100</td>\n",
       "      <td>0</td>\n",
       "      <td>3.57</td>\n",
       "      <td>14</td>\n",
       "      <td>5.0</td>\n",
       "      <td>4.0</td>\n",
       "      <td>2.0</td>\n",
       "      <td>0.0</td>\n",
       "      <td>3.0</td>\n",
       "      <td>0</td>\n",
       "      <td>('summer', 'cardigan', 'women beachwear', 'chi...</td>\n",
       "      <td>others</td>\n",
       "      <td>XS</td>\n",
       "      <td>1</td>\n",
       "      <td>3</td>\n",
       "      <td>36</td>\n",
       "      <td>1</td>\n",
       "      <td>QuantityLimited</td>\n",
       "      <td>295</td>\n",
       "      <td>3.989831</td>\n",
       "      <td>5d464a1ffdf7bc44ee933c65</td>\n",
       "      <td>https://contestimg.wish.com/api/webimage/5ea10...</td>\n",
       "      <td>5ea10e2c617580260d55310a</td>\n",
       "    </tr>\n",
       "  </tbody>\n",
       "</table>\n",
       "</div>"
      ],
      "text/plain": [
       "                                    title_translated  ...                product_id\n",
       "0  2020 Summer Vintage Flamingo Print  Pajamas Se...  ...  5e9ae51d43d6a96e303acdb0\n",
       "1   Women's Casual Summer Sleeveless Sexy Mini Dress  ...  58940d436a0d3d5da4e95a38\n",
       "2  2020 New Arrival Women Spring and Summer Beach...  ...  5ea10e2c617580260d55310a\n",
       "\n",
       "[3 rows x 26 columns]"
      ]
     },
     "execution_count": 3,
     "metadata": {
      "tags": []
     },
     "output_type": "execute_result"
    }
   ],
   "source": [
    "df = pd.read_csv('CleanDF.csv')\n",
    "df.head(3)"
   ]
  },
  {
   "cell_type": "code",
   "execution_count": 4,
   "metadata": {
    "colab": {
     "base_uri": "https://localhost:8080/",
     "height": 170
    },
    "executionInfo": {
     "elapsed": 1545,
     "status": "ok",
     "timestamp": 1601651346943,
     "user": {
      "displayName": "Yatindra",
      "photoUrl": "https://lh3.googleusercontent.com/a-/AOh14GgyhRMwXEEqCncav1ghTui26QU38n9q8A3LHE_ktw=s64",
      "userId": "15503128090634612331"
     },
     "user_tz": -330
    },
    "id": "_e25IxMm2qvl",
    "outputId": "1325c7da-7251-4890-a5de-80f513d11374"
   },
   "outputs": [
    {
     "data": {
      "text/plain": [
       "title_translated             object\n",
       "tags                         object\n",
       "product_color                object\n",
       "product_variation_size_id    object\n",
       "urgency_text                 object\n",
       "merchant_id                  object\n",
       "product_picture              object\n",
       "product_id                   object\n",
       "dtype: object"
      ]
     },
     "execution_count": 4,
     "metadata": {
      "tags": []
     },
     "output_type": "execute_result"
    }
   ],
   "source": [
    "df.dtypes[df.dtypes == 'object']"
   ]
  },
  {
   "cell_type": "code",
   "execution_count": 5,
   "metadata": {
    "colab": {
     "base_uri": "https://localhost:8080/",
     "height": 578
    },
    "executionInfo": {
     "elapsed": 1562,
     "status": "ok",
     "timestamp": 1601651349681,
     "user": {
      "displayName": "Yatindra",
      "photoUrl": "https://lh3.googleusercontent.com/a-/AOh14GgyhRMwXEEqCncav1ghTui26QU38n9q8A3LHE_ktw=s64",
      "userId": "15503128090634612331"
     },
     "user_tz": -330
    },
    "id": "Ddw5Ja5h2qvo",
    "outputId": "a9494cb9-cfdf-401d-a9e0-2f8d0b5426ec"
   },
   "outputs": [
    {
     "name": "stdout",
     "output_type": "stream",
     "text": [
      "<class 'pandas.core.frame.DataFrame'>\n",
      "RangeIndex: 1341 entries, 0 to 1340\n",
      "Data columns (total 26 columns):\n",
      " #   Column                       Non-Null Count  Dtype  \n",
      "---  ------                       --------------  -----  \n",
      " 0   title_translated             1341 non-null   object \n",
      " 1   listed_price                 1341 non-null   float64\n",
      " 2   retail_price                 1341 non-null   int64  \n",
      " 3   units_sold                   1341 non-null   int64  \n",
      " 4   uses_ad_boosts               1341 non-null   int64  \n",
      " 5   rating                       1341 non-null   float64\n",
      " 6   rating_count                 1341 non-null   int64  \n",
      " 7   rating_five_count            1341 non-null   float64\n",
      " 8   rating_four_count            1341 non-null   float64\n",
      " 9   rating_three_count           1341 non-null   float64\n",
      " 10  rating_two_count             1341 non-null   float64\n",
      " 11  rating_one_count             1341 non-null   float64\n",
      " 12  badge_product_quality        1341 non-null   int64  \n",
      " 13  tags                         1341 non-null   object \n",
      " 14  product_color                1341 non-null   object \n",
      " 15  product_variation_size_id    1341 non-null   object \n",
      " 16  product_variation_inventory  1341 non-null   int64  \n",
      " 17  shipping_option_price        1341 non-null   int64  \n",
      " 18  countries_shipped_to         1341 non-null   int64  \n",
      " 19  has_urgency_banner           1341 non-null   int64  \n",
      " 20  urgency_text                 1341 non-null   object \n",
      " 21  merchant_rating_count        1341 non-null   int64  \n",
      " 22  merchant_rating              1341 non-null   float64\n",
      " 23  merchant_id                  1341 non-null   object \n",
      " 24  product_picture              1341 non-null   object \n",
      " 25  product_id                   1341 non-null   object \n",
      "dtypes: float64(8), int64(10), object(8)\n",
      "memory usage: 272.5+ KB\n"
     ]
    }
   ],
   "source": [
    "df.info()"
   ]
  },
  {
   "cell_type": "markdown",
   "metadata": {
    "id": "sFGb0Evo2qvv"
   },
   "source": [
    "- lets import the CSV file that has all the unique categories of tags sorted by count. here The aim is to find out the percentage of total number of tags available for a particular product. then our new feature will be 'tags_percentage'.\n",
    "\n",
    "- The reason behind engineering this feature is that the more number of tags a product has, the more it will turn up in searches. The probability of its units being sold more in number will be high.\n",
    "\n",
    "- We will drop the 'tags' feature thereafter because we do not need it for the model. "
   ]
  },
  {
   "cell_type": "code",
   "execution_count": 7,
   "metadata": {
    "colab": {
     "base_uri": "https://localhost:8080/",
     "height": 102
    },
    "executionInfo": {
     "elapsed": 2651,
     "status": "ok",
     "timestamp": 1601651371260,
     "user": {
      "displayName": "Yatindra",
      "photoUrl": "https://lh3.googleusercontent.com/a-/AOh14GgyhRMwXEEqCncav1ghTui26QU38n9q8A3LHE_ktw=s64",
      "userId": "15503128090634612331"
     },
     "user_tz": -330
    },
    "id": "tJjTvo4E2qvv",
    "outputId": "7616642e-d386-4286-b2f8-0857abf4df15"
   },
   "outputs": [
    {
     "name": "stdout",
     "output_type": "stream",
     "text": [
      "Downloading...\n",
      "From: https://drive.google.com/uc?id=1SuPa3zvm24oTzbqQkhVdNirCkIHFKJI2\n",
      "To: /content/unique-categories.sorted-by-count.csv\n",
      "100% 39.4k/39.4k [00:00<00:00, 52.4MB/s]\n",
      "Total number of tags:  2620\n"
     ]
    }
   ],
   "source": [
    "!gdown --id 1SuPa3zvm24oTzbqQkhVdNirCkIHFKJI2 --output unique-categories.sorted-by-count.csv\n",
    "\n",
    "collect_tags = pd.read_csv('unique-categories.sorted-by-count.csv')\n",
    "print('Total number of tags: ', collect_tags.shape[0])"
   ]
  },
  {
   "cell_type": "code",
   "execution_count": 8,
   "metadata": {
    "executionInfo": {
     "elapsed": 1444,
     "status": "ok",
     "timestamp": 1601651374883,
     "user": {
      "displayName": "Yatindra",
      "photoUrl": "https://lh3.googleusercontent.com/a-/AOh14GgyhRMwXEEqCncav1ghTui26QU38n9q8A3LHE_ktw=s64",
      "userId": "15503128090634612331"
     },
     "user_tz": -330
    },
    "id": "nPztvTQ62qvy"
   },
   "outputs": [],
   "source": [
    "# Return percentage of tags present for a product\n",
    "\n",
    "def tag_number(tags):\n",
    "    ls = tags.split(',')\n",
    "    return len(ls)/collect_tags.shape[0]"
   ]
  },
  {
   "cell_type": "code",
   "execution_count": 9,
   "metadata": {
    "executionInfo": {
     "elapsed": 1274,
     "status": "ok",
     "timestamp": 1601651376812,
     "user": {
      "displayName": "Yatindra",
      "photoUrl": "https://lh3.googleusercontent.com/a-/AOh14GgyhRMwXEEqCncav1ghTui26QU38n9q8A3LHE_ktw=s64",
      "userId": "15503128090634612331"
     },
     "user_tz": -330
    },
    "id": "9_ENlfUW2qv2"
   },
   "outputs": [],
   "source": [
    "df['tags_percentage'] = df['tags'].apply(tag_number)"
   ]
  },
  {
   "cell_type": "code",
   "execution_count": 10,
   "metadata": {
    "executionInfo": {
     "elapsed": 1179,
     "status": "ok",
     "timestamp": 1601651378891,
     "user": {
      "displayName": "Yatindra",
      "photoUrl": "https://lh3.googleusercontent.com/a-/AOh14GgyhRMwXEEqCncav1ghTui26QU38n9q8A3LHE_ktw=s64",
      "userId": "15503128090634612331"
     },
     "user_tz": -330
    },
    "id": "J6Szxpc-2qv6"
   },
   "outputs": [],
   "source": [
    "df.drop(labels = ['tags'], axis=1, inplace=True)"
   ]
  },
  {
   "cell_type": "markdown",
   "metadata": {
    "id": "4l6mZ7L82qv8"
   },
   "source": [
    "#### Correlation between features\n",
    "\n",
    "lets check for correlation of all features with the number of units sold. \n",
    "\n",
    "For the two categorical variables (product colour and variation size and origin country) however, we will do a separate check of correlation (using the one hot encoded format) with the units sold. This has been done because it will be difficult to visualise efficiently otherwise. "
   ]
  },
  {
   "cell_type": "code",
   "execution_count": 11,
   "metadata": {
    "executionInfo": {
     "elapsed": 5517,
     "status": "ok",
     "timestamp": 1601651395979,
     "user": {
      "displayName": "Yatindra",
      "photoUrl": "https://lh3.googleusercontent.com/a-/AOh14GgyhRMwXEEqCncav1ghTui26QU38n9q8A3LHE_ktw=s64",
      "userId": "15503128090634612331"
     },
     "user_tz": -330
    },
    "id": "ygsiDz7-2qv9"
   },
   "outputs": [],
   "source": [
    "# product color\n",
    "dummies_color = pd.get_dummies(df['product_color'], drop_first=True) # give us the one hot ecoded features\n",
    "dummies_color.drop(labels = 'others', axis=1, inplace=True) # remove the 'others' feature as n-1 encoded features represents n features"
   ]
  },
  {
   "cell_type": "code",
   "execution_count": 12,
   "metadata": {
    "executionInfo": {
     "elapsed": 5558,
     "status": "ok",
     "timestamp": 1601651402944,
     "user": {
      "displayName": "Yatindra",
      "photoUrl": "https://lh3.googleusercontent.com/a-/AOh14GgyhRMwXEEqCncav1ghTui26QU38n9q8A3LHE_ktw=s64",
      "userId": "15503128090634612331"
     },
     "user_tz": -330
    },
    "id": "A8Jlo77L2qwC"
   },
   "outputs": [],
   "source": [
    "# product variation size id\n",
    "dummies_variation = pd.get_dummies(df['product_variation_size_id'])\n",
    "dummies_variation.drop(labels = ['Others'], axis = 1, inplace=True)"
   ]
  },
  {
   "cell_type": "markdown",
   "metadata": {
    "id": "hLbfmRDj2qwF"
   },
   "source": [
    "### One hot encoding\n",
    "\n",
    "We will change our categorical variables to one hot encoding format. "
   ]
  },
  {
   "cell_type": "code",
   "execution_count": 13,
   "metadata": {
    "colab": {
     "base_uri": "https://localhost:8080/",
     "height": 80
    },
    "executionInfo": {
     "elapsed": 10632,
     "status": "ok",
     "timestamp": 1601651418897,
     "user": {
      "displayName": "Yatindra",
      "photoUrl": "https://lh3.googleusercontent.com/a-/AOh14GgyhRMwXEEqCncav1ghTui26QU38n9q8A3LHE_ktw=s64",
      "userId": "15503128090634612331"
     },
     "user_tz": -330
    },
    "id": "0_osGVZ72qwF",
    "outputId": "ae8d6613-ca26-4366-da01-32318e18a0c9"
   },
   "outputs": [
    {
     "data": {
      "text/html": [
       "<div>\n",
       "<style scoped>\n",
       "    .dataframe tbody tr th:only-of-type {\n",
       "        vertical-align: middle;\n",
       "    }\n",
       "\n",
       "    .dataframe tbody tr th {\n",
       "        vertical-align: top;\n",
       "    }\n",
       "\n",
       "    .dataframe thead th {\n",
       "        text-align: right;\n",
       "    }\n",
       "</style>\n",
       "<table border=\"1\" class=\"dataframe\">\n",
       "  <thead>\n",
       "    <tr style=\"text-align: right;\">\n",
       "      <th></th>\n",
       "      <th>blue</th>\n",
       "      <th>brown</th>\n",
       "      <th>green</th>\n",
       "      <th>grey</th>\n",
       "      <th>orange</th>\n",
       "      <th>pink</th>\n",
       "      <th>purple</th>\n",
       "      <th>red</th>\n",
       "      <th>white</th>\n",
       "      <th>yellow</th>\n",
       "      <th>L</th>\n",
       "      <th>M</th>\n",
       "      <th>S</th>\n",
       "      <th>XL</th>\n",
       "      <th>XS</th>\n",
       "      <th>XXL</th>\n",
       "      <th>XXS</th>\n",
       "      <th>units_sold</th>\n",
       "    </tr>\n",
       "  </thead>\n",
       "  <tbody>\n",
       "    <tr>\n",
       "      <th>0</th>\n",
       "      <td>0</td>\n",
       "      <td>0</td>\n",
       "      <td>0</td>\n",
       "      <td>0</td>\n",
       "      <td>0</td>\n",
       "      <td>0</td>\n",
       "      <td>0</td>\n",
       "      <td>0</td>\n",
       "      <td>1</td>\n",
       "      <td>0</td>\n",
       "      <td>0</td>\n",
       "      <td>1</td>\n",
       "      <td>0</td>\n",
       "      <td>0</td>\n",
       "      <td>0</td>\n",
       "      <td>0</td>\n",
       "      <td>0</td>\n",
       "      <td>100</td>\n",
       "    </tr>\n",
       "  </tbody>\n",
       "</table>\n",
       "</div>"
      ],
      "text/plain": [
       "   blue  brown  green  grey  orange  pink  ...  S  XL  XS  XXL  XXS  units_sold\n",
       "0     0      0      0     0       0     0  ...  0   0   0    0    0         100\n",
       "\n",
       "[1 rows x 18 columns]"
      ]
     },
     "execution_count": 13,
     "metadata": {
      "tags": []
     },
     "output_type": "execute_result"
    }
   ],
   "source": [
    "# concatenating all the one hot encoded features for the three categorical variables above\n",
    "\n",
    "feat_onehot = pd.concat([dummies_color, dummies_variation, df['units_sold']], axis=1)\n",
    "feat_onehot.head(1)"
   ]
  },
  {
   "cell_type": "code",
   "execution_count": 14,
   "metadata": {
    "colab": {
     "base_uri": "https://localhost:8080/",
     "height": 340
    },
    "executionInfo": {
     "elapsed": 4259,
     "status": "ok",
     "timestamp": 1601651422995,
     "user": {
      "displayName": "Yatindra",
      "photoUrl": "https://lh3.googleusercontent.com/a-/AOh14GgyhRMwXEEqCncav1ghTui26QU38n9q8A3LHE_ktw=s64",
      "userId": "15503128090634612331"
     },
     "user_tz": -330
    },
    "id": "EUm1xFEh2qwJ",
    "outputId": "e8970903-f022-4c2c-8587-555972a149b9"
   },
   "outputs": [
    {
     "data": {
      "text/plain": [
       "units_sold    1.000000\n",
       "M             0.093421\n",
       "S             0.064241\n",
       "XL            0.044004\n",
       "grey          0.038579\n",
       "purple        0.036645\n",
       "orange        0.025344\n",
       "L             0.024548\n",
       "white         0.009503\n",
       "green        -0.013083\n",
       "brown        -0.015332\n",
       "XXL          -0.024568\n",
       "blue         -0.026632\n",
       "red          -0.031285\n",
       "pink         -0.044092\n",
       "yellow       -0.053483\n",
       "XXS          -0.067780\n",
       "XS           -0.109748\n",
       "Name: units_sold, dtype: float64"
      ]
     },
     "execution_count": 14,
     "metadata": {
      "tags": []
     },
     "output_type": "execute_result"
    }
   ],
   "source": [
    "feat_onehot_corr = feat_onehot.corr()\n",
    "\n",
    "feat_onehot_corr['units_sold'].sort_values(ascending=False)"
   ]
  },
  {
   "cell_type": "markdown",
   "metadata": {
    "id": "ORNqgys72qwN"
   },
   "source": [
    "* From the above result we can safely say that the dependency of units sold on the product color and variation size is very unlikely. \n",
    "* For the same reason, we will DROP these features. "
   ]
  },
  {
   "cell_type": "code",
   "execution_count": 15,
   "metadata": {
    "executionInfo": {
     "elapsed": 2290,
     "status": "ok",
     "timestamp": 1601651429767,
     "user": {
      "displayName": "Yatindra",
      "photoUrl": "https://lh3.googleusercontent.com/a-/AOh14GgyhRMwXEEqCncav1ghTui26QU38n9q8A3LHE_ktw=s64",
      "userId": "15503128090634612331"
     },
     "user_tz": -330
    },
    "id": "x1dREq3C2qwN"
   },
   "outputs": [],
   "source": [
    "df.drop(labels = ['product_color', 'product_variation_size_id'], \n",
    "           axis=1, \n",
    "           inplace=True)"
   ]
  },
  {
   "cell_type": "code",
   "execution_count": 16,
   "metadata": {
    "executionInfo": {
     "elapsed": 2358,
     "status": "ok",
     "timestamp": 1601651433704,
     "user": {
      "displayName": "Yatindra",
      "photoUrl": "https://lh3.googleusercontent.com/a-/AOh14GgyhRMwXEEqCncav1ghTui26QU38n9q8A3LHE_ktw=s64",
      "userId": "15503128090634612331"
     },
     "user_tz": -330
    },
    "id": "pdVSpLvW2qwR"
   },
   "outputs": [],
   "source": [
    "df.drop(labels = ['title_translated', 'product_picture', 'product_id', 'merchant_id', 'urgency_text', 'rating_count'], \n",
    "           axis=1, \n",
    "           inplace=True)"
   ]
  },
  {
   "cell_type": "markdown",
   "metadata": {
    "id": "IuRz4zm32qwW"
   },
   "source": [
    "### The correlation between the rest of the features and units of the product sold"
   ]
  },
  {
   "cell_type": "code",
   "execution_count": 17,
   "metadata": {
    "colab": {
     "base_uri": "https://localhost:8080/",
     "height": 1000
    },
    "executionInfo": {
     "elapsed": 11251,
     "status": "ok",
     "timestamp": 1601651448194,
     "user": {
      "displayName": "Yatindra",
      "photoUrl": "https://lh3.googleusercontent.com/a-/AOh14GgyhRMwXEEqCncav1ghTui26QU38n9q8A3LHE_ktw=s64",
      "userId": "15503128090634612331"
     },
     "user_tz": -330
    },
    "id": "Tkl47Pyu2qwX",
    "outputId": "3925d419-e426-4961-847b-65fb5a4d1e32"
   },
   "outputs": [
    {
     "data": {
      "image/png": "[encoded data removed]",
      "text/plain": [
       "<Figure size 1296x1152 with 2 Axes>"
      ]
     },
     "metadata": {
      "needs_background": "light",
      "tags": []
     },
     "output_type": "display_data"
    }
   ],
   "source": [
    "sales_corr = df.corr()\n",
    "\n",
    "plt.figure(figsize = (18, 16))\n",
    "sns.heatmap(sales_corr, annot=True, cmap='Blues_r')\n",
    "plt.title('Correlation between features')\n",
    "plt.show()"
   ]
  },
  {
   "cell_type": "code",
   "execution_count": 19,
   "metadata": {
    "colab": {
     "base_uri": "https://localhost:8080/",
     "height": 731
    },
    "executionInfo": {
     "elapsed": 1579,
     "status": "ok",
     "timestamp": 1601651455637,
     "user": {
      "displayName": "Yatindra",
      "photoUrl": "https://lh3.googleusercontent.com/a-/AOh14GgyhRMwXEEqCncav1ghTui26QU38n9q8A3LHE_ktw=s64",
      "userId": "15503128090634612331"
     },
     "user_tz": -330
    },
    "id": "M1RYawnc2qwe",
    "outputId": "f47b8c01-6f2c-4e0c-88ee-c0b1b744a5e4"
   },
   "outputs": [
    {
     "name": "stdout",
     "output_type": "stream",
     "text": [
      "Strong Correlations\n",
      "Positive Correlations\n",
      "units_sold                     1.000000\n",
      "rating_three_count             0.893082\n",
      "rating_four_count              0.891362\n",
      "rating_five_count              0.875780\n",
      "rating_two_count               0.865060\n",
      "rating_one_count               0.832029\n",
      "merchant_rating_count          0.272979\n",
      "product_variation_inventory    0.127573\n",
      "merchant_rating                0.110917\n",
      "badge_product_quality          0.063519\n",
      "rating                         0.026177\n",
      "tags_percentage                0.009881\n",
      "retail_price                   0.008808\n",
      "has_urgency_banner            -0.006474\n",
      "countries_shipped_to          -0.017163\n",
      "dtype: float64\n",
      "Index(['units_sold', 'rating_three_count', 'rating_four_count',\n",
      "       'rating_five_count', 'rating_two_count', 'rating_one_count',\n",
      "       'merchant_rating_count', 'product_variation_inventory',\n",
      "       'merchant_rating', 'badge_product_quality', 'rating', 'tags_percentage',\n",
      "       'retail_price', 'has_urgency_banner', 'countries_shipped_to'],\n",
      "      dtype='object')\n",
      "-----------------------------\n",
      "Negative Correlations\n",
      "shipping_option_price         -0.052141\n",
      "listed_price                  -0.043776\n",
      "uses_ad_boosts                -0.023642\n",
      "countries_shipped_to          -0.017163\n",
      "has_urgency_banner            -0.006474\n",
      "retail_price                   0.008808\n",
      "tags_percentage                0.009881\n",
      "rating                         0.026177\n",
      "badge_product_quality          0.063519\n",
      "merchant_rating                0.110917\n",
      "product_variation_inventory    0.127573\n",
      "merchant_rating_count          0.272979\n",
      "rating_one_count               0.832029\n",
      "rating_two_count               0.865060\n",
      "rating_five_count              0.875780\n",
      "dtype: float64\n"
     ]
    }
   ],
   "source": [
    "def get_pairs(df, trgt_col):\n",
    "    '''Get diagonal and lower triangular pairs of correlation matrix'''\n",
    "    pairs_to_drop = set()\n",
    "    cols = df.columns\n",
    "    for i in range(0, df.shape[1]):\n",
    "        pairs_to_drop.add((trgt_col, cols[i]))\n",
    "    return pairs_to_drop\n",
    "\n",
    "def get_strong_correlations(df, n=10):\n",
    "    au_corr = df.corr().unstack()\n",
    "    labels_to_drop = get_pairs(df, 'units_sold')\n",
    "    au_corr_desc = au_corr['units_sold'].sort_values(ascending=False)\n",
    "    au_corr_asc = au_corr['units_sold'].sort_values(ascending=True)\n",
    "    return au_corr_desc[0:n], au_corr_asc[0:n]\n",
    "\n",
    "au_corr_desc, au_corr_asc = get_strong_correlations(df, 15)\n",
    "\n",
    "print(\"Strong Correlations\")\n",
    "print(\"Positive Correlations\")\n",
    "print(au_corr_desc)\n",
    "print(au_corr_desc.index)\n",
    "print('-----------------------------')\n",
    "print(\"Negative Correlations\")\n",
    "print(au_corr_asc)"
   ]
  },
  {
   "cell_type": "markdown",
   "metadata": {
    "id": "aa_s8Kkt2qwi"
   },
   "source": [
    "* We can see above the correlation all features hold with the units sold. The method for correlation is *pearson*.\n",
    "\n",
    "* We will use the **SelectKBest method** to capture the best features for the model. "
   ]
  },
  {
   "cell_type": "markdown",
   "metadata": {
    "id": "NhmJ19d52qwj"
   },
   "source": [
    "## Feature Selection"
   ]
  },
  {
   "cell_type": "code",
   "execution_count": 20,
   "metadata": {
    "colab": {
     "base_uri": "https://localhost:8080/",
     "height": 34
    },
    "executionInfo": {
     "elapsed": 2419,
     "status": "ok",
     "timestamp": 1601651464111,
     "user": {
      "displayName": "Yatindra",
      "photoUrl": "https://lh3.googleusercontent.com/a-/AOh14GgyhRMwXEEqCncav1ghTui26QU38n9q8A3LHE_ktw=s64",
      "userId": "15503128090634612331"
     },
     "user_tz": -330
    },
    "id": "W3tjLLyE2qwk",
    "outputId": "20a4e7f0-e60a-49fd-c4d7-06572d7306f4"
   },
   "outputs": [
    {
     "name": "stdout",
     "output_type": "stream",
     "text": [
      "Shape of X is (1341, 17) and that of y is (1341,)\n"
     ]
    }
   ],
   "source": [
    "# separating the independent and dependent variables\n",
    "\n",
    "y = df['units_sold']\n",
    "X = df.drop(labels = ['units_sold'], axis = 1)\n",
    "print(\"Shape of X is {} and that of y is {}\".format(X.shape, y.shape))"
   ]
  },
  {
   "cell_type": "code",
   "execution_count": 21,
   "metadata": {
    "colab": {
     "base_uri": "https://localhost:8080/",
     "height": 51
    },
    "executionInfo": {
     "elapsed": 2633,
     "status": "ok",
     "timestamp": 1601651467966,
     "user": {
      "displayName": "Yatindra",
      "photoUrl": "https://lh3.googleusercontent.com/a-/AOh14GgyhRMwXEEqCncav1ghTui26QU38n9q8A3LHE_ktw=s64",
      "userId": "15503128090634612331"
     },
     "user_tz": -330
    },
    "id": "F9OYINMq2qwp",
    "outputId": "20e0cf51-bb92-41bd-bf37-77df62275582"
   },
   "outputs": [
    {
     "name": "stdout",
     "output_type": "stream",
     "text": [
      "Shape of training set  (1005, 17)\n",
      "Shape of test set  (336, 17)\n"
     ]
    }
   ],
   "source": [
    "# Splitting the dataset \n",
    "\n",
    "from sklearn.model_selection import train_test_split\n",
    "\n",
    "X_train, X_test, y_train, y_test = train_test_split(X, y, test_size=0.25, random_state=1)\n",
    "\n",
    "print('Shape of training set ', X_train.shape)\n",
    "print('Shape of test set ', X_test.shape)"
   ]
  },
  {
   "cell_type": "markdown",
   "metadata": {
    "id": "FJtTZBxv2qww"
   },
   "source": [
    "### SelectKBest\n",
    "\n",
    "* Selects features according to the k highest scores.\n",
    "\n",
    "* Scoring function used here is Mutual Info Regression\n",
    "\n",
    "### Scoring Function: Mutual Info Regression\n",
    "\n",
    "* We could have used the default scoring function: f_regression but that captures linear dependencies better.\n",
    "\n",
    "* mutual_info_regression can capture any type of dependency between variables which is what we would need here. Check out the comparison [here](https://scikit-learn.org/stable/auto_examples/feature_selection/plot_f_test_vs_mi.html)."
   ]
  },
  {
   "cell_type": "markdown",
   "metadata": {
    "id": "MSJyTqD22qwx"
   },
   "source": [
    "* **Mutual Information Regression**: \n",
    "\n",
    "    * Mutual information (MI) between two random variables is a non-negative value, which measures the dependency between the variables. It is equal to zero if and only if two random variables are independent, and higher values mean higher dependency.\n",
    "\n",
    "    * The function relies on nonparametric methods based on entropy estimation from k-nearest neighbors distances. \n",
    "    \n",
    "Source: [Link](https://scikit-learn.org/stable/modules/generated/sklearn.feature_selection.mutual_info_regression.html#sklearn.feature_selection.mutual_info_regression)"
   ]
  },
  {
   "cell_type": "code",
   "execution_count": 22,
   "metadata": {
    "executionInfo": {
     "elapsed": 4455,
     "status": "ok",
     "timestamp": 1601651480092,
     "user": {
      "displayName": "Yatindra",
      "photoUrl": "https://lh3.googleusercontent.com/a-/AOh14GgyhRMwXEEqCncav1ghTui26QU38n9q8A3LHE_ktw=s64",
      "userId": "15503128090634612331"
     },
     "user_tz": -330
    },
    "id": "Rt87EtcI2qwx"
   },
   "outputs": [],
   "source": [
    "from sklearn.feature_selection import SelectKBest\n",
    "from sklearn.feature_selection import mutual_info_regression\n",
    "\n",
    "# feature selection\n",
    "def select_features(X_train, y_train, X_test):\n",
    "    # configure to select all features\n",
    "    fs = SelectKBest(score_func=mutual_info_regression, k='all')\n",
    "    # learn relationship from training data\n",
    "    fs.fit(X_train, y_train)\n",
    "    # transform train input data\n",
    "    X_train_fs = fs.transform(X_train)\n",
    "    # transform test input data\n",
    "    X_test_fs = fs.transform(X_test)\n",
    "    return X_train_fs, X_test_fs, fs\n",
    " "
   ]
  },
  {
   "cell_type": "code",
   "execution_count": 23,
   "metadata": {
    "colab": {
     "base_uri": "https://localhost:8080/",
     "height": 282
    },
    "executionInfo": {
     "elapsed": 3899,
     "status": "ok",
     "timestamp": 1601651482109,
     "user": {
      "displayName": "Yatindra",
      "photoUrl": "https://lh3.googleusercontent.com/a-/AOh14GgyhRMwXEEqCncav1ghTui26QU38n9q8A3LHE_ktw=s64",
      "userId": "15503128090634612331"
     },
     "user_tz": -330
    },
    "id": "syFjc9up2qw1",
    "outputId": "09b50f61-2f13-4637-d575-e58c38fe141d"
   },
   "outputs": [
    {
     "data": {
      "image/png": "[encoded data removed]",
      "text/plain": [
       "<Figure size 432x288 with 1 Axes>"
      ]
     },
     "metadata": {
      "needs_background": "dark",
      "tags": []
     },
     "output_type": "display_data"
    }
   ],
   "source": [
    "X_train_fs, X_test_fs, fs = select_features(X_train, y_train, X_test)\n",
    "\n",
    "\n",
    "plt.bar([i for i in range(len(fs.scores_))], fs.scores_)\n",
    "plt.tick_params(color='white', labelcolor='white')\n",
    "plt.xlabel('Features', color='white')\n",
    "plt.ylabel('Score of Features', color='white')\n",
    "plt.show()"
   ]
  },
  {
   "cell_type": "code",
   "execution_count": 24,
   "metadata": {
    "executionInfo": {
     "elapsed": 5405,
     "status": "ok",
     "timestamp": 1601651484278,
     "user": {
      "displayName": "Yatindra",
      "photoUrl": "https://lh3.googleusercontent.com/a-/AOh14GgyhRMwXEEqCncav1ghTui26QU38n9q8A3LHE_ktw=s64",
      "userId": "15503128090634612331"
     },
     "user_tz": -330
    },
    "id": "gllGf_ta2qw4"
   },
   "outputs": [],
   "source": [
    "def select_features(X_train, y_train, X_test):\n",
    "    # configure to select all features\n",
    "    fs = SelectKBest(score_func=mutual_info_regression, k=8)\n",
    "    # learn relationship from training data\n",
    "    fs.fit(X_train, y_train)\n",
    "    # transform train input data\n",
    "    X_train_fs = fs.transform(X_train)\n",
    "    # transform test input data\n",
    "    X_test_fs = fs.transform(X_test)\n",
    "    return X_train_fs, X_test_fs, fs"
   ]
  },
  {
   "cell_type": "code",
   "execution_count": 25,
   "metadata": {
    "colab": {
     "base_uri": "https://localhost:8080/",
     "height": 34
    },
    "executionInfo": {
     "elapsed": 4518,
     "status": "ok",
     "timestamp": 1601651484279,
     "user": {
      "displayName": "Yatindra",
      "photoUrl": "https://lh3.googleusercontent.com/a-/AOh14GgyhRMwXEEqCncav1ghTui26QU38n9q8A3LHE_ktw=s64",
      "userId": "15503128090634612331"
     },
     "user_tz": -330
    },
    "id": "yvN4AZZf2qw8",
    "outputId": "e53c597c-d330-4af5-b499-65681d4114c8"
   },
   "outputs": [
    {
     "name": "stdout",
     "output_type": "stream",
     "text": [
      "Shape of Training set with the best features:  (1005, 8)\n"
     ]
    }
   ],
   "source": [
    "# Selecting features\n",
    "\n",
    "X_train_fs, X_test_fs, fs = select_features(X_train, y_train, X_test)\n",
    "\n",
    "print('Shape of Training set with the best features: ', X_train_fs.shape)"
   ]
  },
  {
   "cell_type": "code",
   "execution_count": 26,
   "metadata": {
    "colab": {
     "base_uri": "https://localhost:8080/",
     "height": 187
    },
    "executionInfo": {
     "elapsed": 5482,
     "status": "ok",
     "timestamp": 1601651486127,
     "user": {
      "displayName": "Yatindra",
      "photoUrl": "https://lh3.googleusercontent.com/a-/AOh14GgyhRMwXEEqCncav1ghTui26QU38n9q8A3LHE_ktw=s64",
      "userId": "15503128090634612331"
     },
     "user_tz": -330
    },
    "id": "3TwxKTFU2qw_",
    "outputId": "5062fdcc-3f7d-42a7-df63-b4f9f9ae2113"
   },
   "outputs": [
    {
     "name": "stdout",
     "output_type": "stream",
     "text": [
      "Best columns that we are using for our model\n",
      "\n",
      "uses_ad_boosts\n",
      "rating\n",
      "rating_five_count\n",
      "rating_four_count\n",
      "rating_three_count\n",
      "rating_two_count\n",
      "has_urgency_banner\n",
      "merchant_rating_count\n"
     ]
    }
   ],
   "source": [
    "cols = fs.get_support(indices=True)\n",
    "\n",
    "print('Best columns that we are using for our model\\n')\n",
    "for i in cols:\n",
    "    print (df.columns[i])"
   ]
  },
  {
   "cell_type": "markdown",
   "metadata": {
    "id": "yEqMg5oG2qxD"
   },
   "source": [
    "### Regression Models"
   ]
  },
  {
   "cell_type": "code",
   "execution_count": 27,
   "metadata": {
    "executionInfo": {
     "elapsed": 4192,
     "status": "ok",
     "timestamp": 1601651487030,
     "user": {
      "displayName": "Yatindra",
      "photoUrl": "https://lh3.googleusercontent.com/a-/AOh14GgyhRMwXEEqCncav1ghTui26QU38n9q8A3LHE_ktw=s64",
      "userId": "15503128090634612331"
     },
     "user_tz": -330
    },
    "id": "wT1wrH4a2qxD"
   },
   "outputs": [],
   "source": [
    "# Importing models\n",
    "from sklearn.linear_model import LinearRegression\n",
    "from sklearn.svm import SVR\n",
    "from sklearn.tree import DecisionTreeRegressor\n",
    "from sklearn.ensemble import RandomForestRegressor\n",
    "\n",
    "# Regression Metrics\n",
    "from sklearn.metrics import mean_absolute_error\n",
    "from sklearn.metrics import mean_squared_error\n",
    "from sklearn.metrics import r2_score\n",
    "\n",
    "# Cross validation\n",
    "from sklearn.model_selection import cross_val_score"
   ]
  },
  {
   "cell_type": "code",
   "execution_count": 28,
   "metadata": {
    "executionInfo": {
     "elapsed": 3408,
     "status": "ok",
     "timestamp": 1601651487031,
     "user": {
      "displayName": "Yatindra",
      "photoUrl": "https://lh3.googleusercontent.com/a-/AOh14GgyhRMwXEEqCncav1ghTui26QU38n9q8A3LHE_ktw=s64",
      "userId": "15503128090634612331"
     },
     "user_tz": -330
    },
    "id": "wNdoEbn42qxG"
   },
   "outputs": [],
   "source": [
    "regressors = [LinearRegression(),\n",
    "             DecisionTreeRegressor(random_state=1),\n",
    "             RandomForestRegressor(n_estimators = 10, random_state=1)]\n",
    "\n",
    "df = pd.DataFrame(columns = ['Name', 'Train Score', 'Test Score', 'Mean Absolute Error', 'Mean Squared Error', \n",
    "                             'Cross Validation Score (Mean Accuracy)', 'R2 Score'])"
   ]
  },
  {
   "cell_type": "code",
   "execution_count": 29,
   "metadata": {
    "colab": {
     "base_uri": "https://localhost:8080/",
     "height": 142
    },
    "executionInfo": {
     "elapsed": 5457,
     "status": "ok",
     "timestamp": 1601651493811,
     "user": {
      "displayName": "Yatindra",
      "photoUrl": "https://lh3.googleusercontent.com/a-/AOh14GgyhRMwXEEqCncav1ghTui26QU38n9q8A3LHE_ktw=s64",
      "userId": "15503128090634612331"
     },
     "user_tz": -330
    },
    "id": "ngkJ1CfP2qxJ",
    "outputId": "72dcf033-fdaa-4e95-df35-5c3e5dafb716"
   },
   "outputs": [
    {
     "data": {
      "text/html": [
       "<div>\n",
       "<style scoped>\n",
       "    .dataframe tbody tr th:only-of-type {\n",
       "        vertical-align: middle;\n",
       "    }\n",
       "\n",
       "    .dataframe tbody tr th {\n",
       "        vertical-align: top;\n",
       "    }\n",
       "\n",
       "    .dataframe thead th {\n",
       "        text-align: right;\n",
       "    }\n",
       "</style>\n",
       "<table border=\"1\" class=\"dataframe\">\n",
       "  <thead>\n",
       "    <tr style=\"text-align: right;\">\n",
       "      <th></th>\n",
       "      <th>Name</th>\n",
       "      <th>Train Score</th>\n",
       "      <th>Test Score</th>\n",
       "      <th>Mean Absolute Error</th>\n",
       "      <th>Mean Squared Error</th>\n",
       "      <th>Cross Validation Score (Mean Accuracy)</th>\n",
       "      <th>R2 Score</th>\n",
       "    </tr>\n",
       "  </thead>\n",
       "  <tbody>\n",
       "    <tr>\n",
       "      <th>0</th>\n",
       "      <td>LinearRegression</td>\n",
       "      <td>0.811489</td>\n",
       "      <td>0.799702</td>\n",
       "      <td>2153.450794</td>\n",
       "      <td>2.439599e+07</td>\n",
       "      <td>75.005102</td>\n",
       "      <td>0.799702</td>\n",
       "    </tr>\n",
       "    <tr>\n",
       "      <th>1</th>\n",
       "      <td>DecisionTreeRegressor</td>\n",
       "      <td>1.000000</td>\n",
       "      <td>0.650819</td>\n",
       "      <td>1990.827381</td>\n",
       "      <td>4.252969e+07</td>\n",
       "      <td>64.652148</td>\n",
       "      <td>0.650819</td>\n",
       "    </tr>\n",
       "    <tr>\n",
       "      <th>2</th>\n",
       "      <td>RandomForestRegressor</td>\n",
       "      <td>0.960188</td>\n",
       "      <td>0.779113</td>\n",
       "      <td>2073.082143</td>\n",
       "      <td>2.690363e+07</td>\n",
       "      <td>73.567409</td>\n",
       "      <td>0.779113</td>\n",
       "    </tr>\n",
       "  </tbody>\n",
       "</table>\n",
       "</div>"
      ],
      "text/plain": [
       "                    Name  ...  R2 Score\n",
       "0       LinearRegression  ...  0.799702\n",
       "1  DecisionTreeRegressor  ...  0.650819\n",
       "2  RandomForestRegressor  ...  0.779113\n",
       "\n",
       "[3 rows x 7 columns]"
      ]
     },
     "execution_count": 29,
     "metadata": {
      "tags": []
     },
     "output_type": "execute_result"
    }
   ],
   "source": [
    "for regressor in regressors:\n",
    "    regressor.fit(X_train_fs, y_train)\n",
    "    y_pred = regressor.predict(X_test_fs)\n",
    "    \n",
    "    # print classifier name\n",
    "    s = str(type(regressor)).split('.')[-1][:-2]\n",
    "    \n",
    "    # Train Score\n",
    "    train = regressor.score(X_train_fs, y_train)\n",
    "    \n",
    "    # Test Score\n",
    "    test = regressor.score(X_test_fs, y_test)\n",
    "    \n",
    "    # MAE score\n",
    "    mae = mean_absolute_error(y_test, y_pred)\n",
    "    \n",
    "    # MSE Score\n",
    "    mse = mean_squared_error(y_test, y_pred)\n",
    "    \n",
    "    accuracy = cross_val_score(estimator = regressor, X = X_train_fs, y = y_train, cv=10)\n",
    "    cv = accuracy.mean()*100\n",
    "    \n",
    "    r2 = r2_score(y_test, y_pred)\n",
    "    \n",
    "    df = df.append({'Name': s, 'Train Score': train, 'Test Score': test, 'Mean Absolute Error': mae, \n",
    "                    'Mean Squared Error': mse, 'Cross Validation Score (Mean Accuracy)': cv,\n",
    "                   'R2 Score': r2},\n",
    "                  ignore_index=True)\n",
    "    \n",
    "df"
   ]
  },
  {
   "cell_type": "code",
   "execution_count": 30,
   "metadata": {
    "executionInfo": {
     "elapsed": 3399,
     "status": "ok",
     "timestamp": 1601651493812,
     "user": {
      "displayName": "Yatindra",
      "photoUrl": "https://lh3.googleusercontent.com/a-/AOh14GgyhRMwXEEqCncav1ghTui26QU38n9q8A3LHE_ktw=s64",
      "userId": "15503128090634612331"
     },
     "user_tz": -330
    },
    "id": "cKzyuDgZ2qxM"
   },
   "outputs": [],
   "source": [
    "# Making Polynomial Features\n",
    "from sklearn.preprocessing import PolynomialFeatures\n",
    "\n",
    "poly_reg = PolynomialFeatures(degree = 3)\n",
    "X_train_poly = poly_reg.fit_transform(X_train_fs)\n",
    "X_test_poly = poly_reg.fit_transform(X_test_fs)\n",
    "\n",
    "# Fitt PolyReg to training set\n",
    "regressor = LinearRegression()\n",
    "regressor.fit(X_train_poly, y_train)\n",
    "\n",
    "# Predicting test values\n",
    "y_pred = regressor.predict(X_test_poly)\n",
    "\n",
    "df = df.append({'Name': str(type(regressor)).split('.')[-1][:-2] + ' (Poly)', \n",
    "                'Train Score': regressor.score(X_train_poly, y_train), \n",
    "                'Test Score': regressor.score(X_test_poly, y_test), \n",
    "                'Mean Absolute Error': mean_absolute_error(y_test, y_pred), \n",
    "                'Mean Squared Error': mean_squared_error(y_test, y_pred), \n",
    "                'Cross Validation Score (Mean Accuracy)': cross_val_score(estimator = regressor, X = X_train_fs, y = y_train, cv=10).mean()*100,\n",
    "                'R2 Score': r2_score(y_test, y_pred)},\n",
    "                  ignore_index=True)"
   ]
  },
  {
   "cell_type": "code",
   "execution_count": 31,
   "metadata": {
    "colab": {
     "base_uri": "https://localhost:8080/",
     "height": 204
    },
    "executionInfo": {
     "elapsed": 3806,
     "status": "ok",
     "timestamp": 1601651495143,
     "user": {
      "displayName": "Yatindra",
      "photoUrl": "https://lh3.googleusercontent.com/a-/AOh14GgyhRMwXEEqCncav1ghTui26QU38n9q8A3LHE_ktw=s64",
      "userId": "15503128090634612331"
     },
     "user_tz": -330
    },
    "id": "xUw_NUqU2qxO",
    "outputId": "f2a85d95-2ad8-42fe-80f3-b72afa556b1f"
   },
   "outputs": [
    {
     "data": {
      "text/html": [
       "<div>\n",
       "<style scoped>\n",
       "    .dataframe tbody tr th:only-of-type {\n",
       "        vertical-align: middle;\n",
       "    }\n",
       "\n",
       "    .dataframe tbody tr th {\n",
       "        vertical-align: top;\n",
       "    }\n",
       "\n",
       "    .dataframe thead th {\n",
       "        text-align: right;\n",
       "    }\n",
       "</style>\n",
       "<table border=\"1\" class=\"dataframe\">\n",
       "  <thead>\n",
       "    <tr style=\"text-align: right;\">\n",
       "      <th></th>\n",
       "      <th>Name</th>\n",
       "      <th>Train Score</th>\n",
       "      <th>Test Score</th>\n",
       "      <th>Mean Absolute Error</th>\n",
       "      <th>Mean Squared Error</th>\n",
       "      <th>Cross Validation Score (Mean Accuracy)</th>\n",
       "      <th>R2 Score</th>\n",
       "    </tr>\n",
       "  </thead>\n",
       "  <tbody>\n",
       "    <tr>\n",
       "      <th>0</th>\n",
       "      <td>LinearRegression</td>\n",
       "      <td>0.811489</td>\n",
       "      <td>0.799702</td>\n",
       "      <td>2153.450794</td>\n",
       "      <td>2.439599e+07</td>\n",
       "      <td>75.005102</td>\n",
       "      <td>0.799702</td>\n",
       "    </tr>\n",
       "    <tr>\n",
       "      <th>1</th>\n",
       "      <td>DecisionTreeRegressor</td>\n",
       "      <td>1.000000</td>\n",
       "      <td>0.650819</td>\n",
       "      <td>1990.827381</td>\n",
       "      <td>4.252969e+07</td>\n",
       "      <td>64.652148</td>\n",
       "      <td>0.650819</td>\n",
       "    </tr>\n",
       "    <tr>\n",
       "      <th>2</th>\n",
       "      <td>RandomForestRegressor</td>\n",
       "      <td>0.960188</td>\n",
       "      <td>0.779113</td>\n",
       "      <td>2073.082143</td>\n",
       "      <td>2.690363e+07</td>\n",
       "      <td>73.567409</td>\n",
       "      <td>0.779113</td>\n",
       "    </tr>\n",
       "    <tr>\n",
       "      <th>3</th>\n",
       "      <td>LinearRegression (Poly)</td>\n",
       "      <td>0.948472</td>\n",
       "      <td>-44.857599</td>\n",
       "      <td>8125.892172</td>\n",
       "      <td>5.585376e+09</td>\n",
       "      <td>75.005102</td>\n",
       "      <td>-44.857599</td>\n",
       "    </tr>\n",
       "    <tr>\n",
       "      <th>4</th>\n",
       "      <td>SVR</td>\n",
       "      <td>-0.132196</td>\n",
       "      <td>-0.171835</td>\n",
       "      <td>5196.946585</td>\n",
       "      <td>1.427275e+08</td>\n",
       "      <td>-16.629011</td>\n",
       "      <td>-0.171835</td>\n",
       "    </tr>\n",
       "  </tbody>\n",
       "</table>\n",
       "</div>"
      ],
      "text/plain": [
       "                      Name  ...   R2 Score\n",
       "0         LinearRegression  ...   0.799702\n",
       "1    DecisionTreeRegressor  ...   0.650819\n",
       "2    RandomForestRegressor  ...   0.779113\n",
       "3  LinearRegression (Poly)  ... -44.857599\n",
       "4                      SVR  ...  -0.171835\n",
       "\n",
       "[5 rows x 7 columns]"
      ]
     },
     "execution_count": 31,
     "metadata": {
      "tags": []
     },
     "output_type": "execute_result"
    }
   ],
   "source": [
    "# Scaling\n",
    "from sklearn.preprocessing import StandardScaler\n",
    "\n",
    "# Applying feature scaling for this\n",
    "sc = StandardScaler()\n",
    "X_train_sc = sc.fit_transform(X_train_fs)\n",
    "X_test_sc = sc.fit_transform(X_test_fs)\n",
    "\n",
    "regressor = SVR(kernel='rbf')\n",
    "regressor.fit(X_train_sc, y_train)\n",
    "\n",
    "# Predicting test values\n",
    "y_pred = regressor.predict(X_test_sc)\n",
    "\n",
    "df = df.append({'Name': str(type(regressor)).split('.')[-1][:-2], \n",
    "                'Train Score': regressor.score(X_train_sc, y_train), \n",
    "                'Test Score': regressor.score(X_test_sc, y_test), \n",
    "                'Mean Absolute Error': mean_absolute_error(y_test, y_pred), \n",
    "                'Mean Squared Error': mean_squared_error(y_test, y_pred), \n",
    "                'Cross Validation Score (Mean Accuracy)': cross_val_score(estimator = regressor, X = X_train_sc, y = y_train, cv=10).mean()*100,\n",
    "                'R2 Score': r2_score(y_test, y_pred)},\n",
    "                  ignore_index=True)\n",
    "\n",
    "df"
   ]
  },
  {
   "cell_type": "markdown",
   "metadata": {
    "id": "2fDrSjND2qxU"
   },
   "source": [
    "## GridSearchCV\n",
    "\n",
    "We will perform GridSearch on Random Forest Regression that has already given us best results out of the pool of models we tried."
   ]
  },
  {
   "cell_type": "code",
   "execution_count": 32,
   "metadata": {
    "executionInfo": {
     "elapsed": 2382,
     "status": "ok",
     "timestamp": 1601651495144,
     "user": {
      "displayName": "Yatindra",
      "photoUrl": "https://lh3.googleusercontent.com/a-/AOh14GgyhRMwXEEqCncav1ghTui26QU38n9q8A3LHE_ktw=s64",
      "userId": "15503128090634612331"
     },
     "user_tz": -330
    },
    "id": "anWk0YX-2qxV"
   },
   "outputs": [],
   "source": [
    "from sklearn.model_selection import GridSearchCV\n",
    "\n",
    "reg = RandomForestRegressor(random_state=1)\n",
    "\n",
    "param_grid = { \n",
    "    'n_estimators': np.arange(4, 30, 2),\n",
    "    'max_depth' : [4,5,6,7,8],\n",
    "}"
   ]
  },
  {
   "cell_type": "code",
   "execution_count": 33,
   "metadata": {
    "colab": {
     "base_uri": "https://localhost:8080/",
     "height": 340
    },
    "executionInfo": {
     "elapsed": 18345,
     "status": "ok",
     "timestamp": 1601651512595,
     "user": {
      "displayName": "Yatindra",
      "photoUrl": "https://lh3.googleusercontent.com/a-/AOh14GgyhRMwXEEqCncav1ghTui26QU38n9q8A3LHE_ktw=s64",
      "userId": "15503128090634612331"
     },
     "user_tz": -330
    },
    "id": "RGa-gp_E2qxY",
    "outputId": "6af905f8-662f-4962-ea12-c29b8f468dea"
   },
   "outputs": [
    {
     "data": {
      "text/plain": [
       "GridSearchCV(cv=5, error_score=nan,\n",
       "             estimator=RandomForestRegressor(bootstrap=True, ccp_alpha=0.0,\n",
       "                                             criterion='mse', max_depth=None,\n",
       "                                             max_features='auto',\n",
       "                                             max_leaf_nodes=None,\n",
       "                                             max_samples=None,\n",
       "                                             min_impurity_decrease=0.0,\n",
       "                                             min_impurity_split=None,\n",
       "                                             min_samples_leaf=1,\n",
       "                                             min_samples_split=2,\n",
       "                                             min_weight_fraction_leaf=0.0,\n",
       "                                             n_estimators=100, n_jobs=None,\n",
       "                                             oob_score=False, random_state=1,\n",
       "                                             verbose=0, warm_start=False),\n",
       "             iid='deprecated', n_jobs=None,\n",
       "             param_grid={'max_depth': [4, 5, 6, 7, 8],\n",
       "                         'n_estimators': array([ 4,  6,  8, 10, 12, 14, 16, 18, 20, 22, 24, 26, 28])},\n",
       "             pre_dispatch='2*n_jobs', refit=True, return_train_score=False,\n",
       "             scoring=None, verbose=0)"
      ]
     },
     "execution_count": 33,
     "metadata": {
      "tags": []
     },
     "output_type": "execute_result"
    }
   ],
   "source": [
    "CV_reg = GridSearchCV(estimator=reg, param_grid=param_grid, cv= 5)\n",
    "CV_reg.fit(X_train_fs, y_train)"
   ]
  },
  {
   "cell_type": "code",
   "execution_count": 34,
   "metadata": {
    "colab": {
     "base_uri": "https://localhost:8080/",
     "height": 34
    },
    "executionInfo": {
     "elapsed": 16845,
     "status": "ok",
     "timestamp": 1601651512596,
     "user": {
      "displayName": "Yatindra",
      "photoUrl": "https://lh3.googleusercontent.com/a-/AOh14GgyhRMwXEEqCncav1ghTui26QU38n9q8A3LHE_ktw=s64",
      "userId": "15503128090634612331"
     },
     "user_tz": -330
    },
    "id": "2eH-_Xuz2qxa",
    "outputId": "2286b54f-3496-4eb3-9aba-43b94803ef0f"
   },
   "outputs": [
    {
     "data": {
      "text/plain": [
       "{'max_depth': 5, 'n_estimators': 26}"
      ]
     },
     "execution_count": 34,
     "metadata": {
      "tags": []
     },
     "output_type": "execute_result"
    }
   ],
   "source": [
    "CV_reg.best_params_"
   ]
  },
  {
   "cell_type": "code",
   "execution_count": 35,
   "metadata": {
    "executionInfo": {
     "elapsed": 17434,
     "status": "ok",
     "timestamp": 1601651514460,
     "user": {
      "displayName": "Yatindra",
      "photoUrl": "https://lh3.googleusercontent.com/a-/AOh14GgyhRMwXEEqCncav1ghTui26QU38n9q8A3LHE_ktw=s64",
      "userId": "15503128090634612331"
     },
     "user_tz": -330
    },
    "id": "C306h0H62qxe"
   },
   "outputs": [],
   "source": [
    "regressor = RandomForestRegressor(n_estimators=26, random_state=1, max_depth=5)\n",
    "\n",
    "regressor.fit(X_train_fs, y_train)\n",
    "\n",
    "# Predicting test values\n",
    "y_pred = regressor.predict(X_test_fs)\n",
    "\n",
    "df = df.append({'Name': str(type(regressor)).split('.')[-1][:-2] + ' (after GridSearchCV)', \n",
    "                'Train Score': regressor.score(X_train_fs, y_train), \n",
    "                'Test Score': regressor.score(X_test_fs, y_test), \n",
    "                'Mean Absolute Error': mean_absolute_error(y_test, y_pred), \n",
    "                'Mean Squared Error': mean_squared_error(y_test, y_pred), \n",
    "                'Cross Validation Score (Mean Accuracy)': cross_val_score(estimator = regressor, X = X_train_fs, y = y_train, cv=10).mean()*100,\n",
    "                'R2 Score': r2_score(y_test, y_pred)},\n",
    "                  ignore_index=True)"
   ]
  },
  {
   "cell_type": "markdown",
   "metadata": {
    "id": "xN1dybBH2qxh"
   },
   "source": [
    "**MODEL BOOSTING:** We have used VotingRegressor to boost our results. \n",
    "\n",
    "VotingRegressor: A voting regressor is an ensemble meta-estimator that fits several base regressors, each on the whole dataset. Then it averages the individual predictions to form a final prediction. Click [here](https://scikit-learn.org/stable/modules/generated/sklearn.ensemble.VotingRegressor.html) for more details.\n",
    "\n",
    "The voting regressor uses *linear regressor* and the best possible *random forest regressor* to give predictions."
   ]
  },
  {
   "cell_type": "code",
   "execution_count": 36,
   "metadata": {
    "colab": {
     "base_uri": "https://localhost:8080/",
     "height": 266
    },
    "executionInfo": {
     "elapsed": 14421,
     "status": "ok",
     "timestamp": 1601651514461,
     "user": {
      "displayName": "Yatindra",
      "photoUrl": "https://lh3.googleusercontent.com/a-/AOh14GgyhRMwXEEqCncav1ghTui26QU38n9q8A3LHE_ktw=s64",
      "userId": "15503128090634612331"
     },
     "user_tz": -330
    },
    "id": "WYulvdtC2qxi",
    "outputId": "27417895-4218-48f7-e8db-42015d5c52dd"
   },
   "outputs": [
    {
     "data": {
      "text/html": [
       "<div>\n",
       "<style scoped>\n",
       "    .dataframe tbody tr th:only-of-type {\n",
       "        vertical-align: middle;\n",
       "    }\n",
       "\n",
       "    .dataframe tbody tr th {\n",
       "        vertical-align: top;\n",
       "    }\n",
       "\n",
       "    .dataframe thead th {\n",
       "        text-align: right;\n",
       "    }\n",
       "</style>\n",
       "<table border=\"1\" class=\"dataframe\">\n",
       "  <thead>\n",
       "    <tr style=\"text-align: right;\">\n",
       "      <th></th>\n",
       "      <th>Name</th>\n",
       "      <th>Train Score</th>\n",
       "      <th>Test Score</th>\n",
       "      <th>Mean Absolute Error</th>\n",
       "      <th>Mean Squared Error</th>\n",
       "      <th>Cross Validation Score (Mean Accuracy)</th>\n",
       "      <th>R2 Score</th>\n",
       "    </tr>\n",
       "  </thead>\n",
       "  <tbody>\n",
       "    <tr>\n",
       "      <th>0</th>\n",
       "      <td>LinearRegression</td>\n",
       "      <td>0.811489</td>\n",
       "      <td>0.799702</td>\n",
       "      <td>2153.450794</td>\n",
       "      <td>2.439599e+07</td>\n",
       "      <td>75.005102</td>\n",
       "      <td>0.799702</td>\n",
       "    </tr>\n",
       "    <tr>\n",
       "      <th>1</th>\n",
       "      <td>DecisionTreeRegressor</td>\n",
       "      <td>1.000000</td>\n",
       "      <td>0.650819</td>\n",
       "      <td>1990.827381</td>\n",
       "      <td>4.252969e+07</td>\n",
       "      <td>64.652148</td>\n",
       "      <td>0.650819</td>\n",
       "    </tr>\n",
       "    <tr>\n",
       "      <th>2</th>\n",
       "      <td>RandomForestRegressor</td>\n",
       "      <td>0.960188</td>\n",
       "      <td>0.779113</td>\n",
       "      <td>2073.082143</td>\n",
       "      <td>2.690363e+07</td>\n",
       "      <td>73.567409</td>\n",
       "      <td>0.779113</td>\n",
       "    </tr>\n",
       "    <tr>\n",
       "      <th>3</th>\n",
       "      <td>LinearRegression (Poly)</td>\n",
       "      <td>0.948472</td>\n",
       "      <td>-44.857599</td>\n",
       "      <td>8125.892172</td>\n",
       "      <td>5.585376e+09</td>\n",
       "      <td>75.005102</td>\n",
       "      <td>-44.857599</td>\n",
       "    </tr>\n",
       "    <tr>\n",
       "      <th>4</th>\n",
       "      <td>SVR</td>\n",
       "      <td>-0.132196</td>\n",
       "      <td>-0.171835</td>\n",
       "      <td>5196.946585</td>\n",
       "      <td>1.427275e+08</td>\n",
       "      <td>-16.629011</td>\n",
       "      <td>-0.171835</td>\n",
       "    </tr>\n",
       "    <tr>\n",
       "      <th>5</th>\n",
       "      <td>RandomForestRegressor (after GridSearchCV)</td>\n",
       "      <td>0.928893</td>\n",
       "      <td>0.820999</td>\n",
       "      <td>1923.118525</td>\n",
       "      <td>2.180200e+07</td>\n",
       "      <td>76.516459</td>\n",
       "      <td>0.820999</td>\n",
       "    </tr>\n",
       "    <tr>\n",
       "      <th>6</th>\n",
       "      <td>VotingRegressor</td>\n",
       "      <td>0.880868</td>\n",
       "      <td>0.837355</td>\n",
       "      <td>1936.436505</td>\n",
       "      <td>1.980990e+07</td>\n",
       "      <td>78.786802</td>\n",
       "      <td>0.837355</td>\n",
       "    </tr>\n",
       "  </tbody>\n",
       "</table>\n",
       "</div>"
      ],
      "text/plain": [
       "                                         Name  ...   R2 Score\n",
       "0                            LinearRegression  ...   0.799702\n",
       "1                       DecisionTreeRegressor  ...   0.650819\n",
       "2                       RandomForestRegressor  ...   0.779113\n",
       "3                     LinearRegression (Poly)  ... -44.857599\n",
       "4                                         SVR  ...  -0.171835\n",
       "5  RandomForestRegressor (after GridSearchCV)  ...   0.820999\n",
       "6                             VotingRegressor  ...   0.837355\n",
       "\n",
       "[7 rows x 7 columns]"
      ]
     },
     "execution_count": 36,
     "metadata": {
      "tags": []
     },
     "output_type": "execute_result"
    }
   ],
   "source": [
    "from sklearn.ensemble import VotingRegressor\n",
    "\n",
    "regressor = VotingRegressor([('lr',LinearRegression()), ('rf', RandomForestRegressor(n_estimators=18, random_state=1, max_depth=4))])\n",
    "\n",
    "regressor.fit(X_train_fs, y_train)\n",
    "\n",
    "# Predicting test values\n",
    "y_pred = regressor.predict(X_test_fs)\n",
    "\n",
    "df = df.append({'Name': str(type(regressor)).split('.')[-1][:-2], \n",
    "                'Train Score': regressor.score(X_train_fs, y_train), \n",
    "                'Test Score': regressor.score(X_test_fs, y_test), \n",
    "                'Mean Absolute Error': mean_absolute_error(y_test, y_pred), \n",
    "                'Mean Squared Error': mean_squared_error(y_test, y_pred), \n",
    "                'Cross Validation Score (Mean Accuracy)': cross_val_score(estimator = regressor, X = X_train_fs, y = y_train, cv=10).mean()*100,\n",
    "                'R2 Score': r2_score(y_test, y_pred)},\n",
    "                  ignore_index=True)\n",
    "\n",
    "df"
   ]
  }
 ],
 "metadata": {
  "colab": {
   "collapsed_sections": [],
   "name": "3. Prediction Model.ipynb",
   "provenance": []
  },
  "kernelspec": {
   "display_name": "Python 3",
   "language": "python",
   "name": "python3"
  },
  "language_info": {
   "codemirror_mode": {
    "name": "ipython",
    "version": 3
   },
   "file_extension": ".py",
   "mimetype": "text/x-python",
   "name": "python",
   "nbconvert_exporter": "python",
   "pygments_lexer": "ipython3",
   "version": "3.7.9"
  }
 },
 "nbformat": 4,
 "nbformat_minor": 4
}
