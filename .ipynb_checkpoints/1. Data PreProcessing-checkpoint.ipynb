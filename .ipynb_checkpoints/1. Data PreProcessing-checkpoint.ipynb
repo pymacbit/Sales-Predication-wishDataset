{
 "cells": [
  {
   "cell_type": "markdown",
   "metadata": {
    "id": "uL6DBLgvwjBu"
   },
   "source": [
    "### Importing the neccessary Libraries"
   ]
  },
  {
   "cell_type": "code",
   "execution_count": null,
   "metadata": {
    "id": "uT2AJ6R-wjBv"
   },
   "outputs": [],
   "source": [
    "import numpy as np \n",
    "import pandas as pd \n",
    "import math\n",
    "\n",
    "import matplotlib.pyplot as plt \n",
    "from matplotlib import style\n",
    "style.use('ggplot')\n",
    "\n",
    "import seaborn as sns"
   ]
  },
  {
   "cell_type": "markdown",
   "metadata": {
    "id": "xo35oMSi3-UF"
   },
   "source": [
    "NOte : Execute below cells only if running on google colab for getting the dataset"
   ]
  },
  {
   "cell_type": "code",
   "execution_count": null,
   "metadata": {
    "colab": {
     "base_uri": "https://localhost:8080/",
     "height": 221
    },
    "executionInfo": {
     "elapsed": 4858,
     "status": "ok",
     "timestamp": 1601650034592,
     "user": {
      "displayName": "Yatindra",
      "photoUrl": "https://lh3.googleusercontent.com/a-/AOh14GgyhRMwXEEqCncav1ghTui26QU38n9q8A3LHE_ktw=s64",
      "userId": "15503128090634612331"
     },
     "user_tz": -330
    },
    "id": "laidGNzvwzFQ",
    "outputId": "aa3c8cd6-792b-44f9-8a57-4f15b9dcee2c"
   },
   "outputs": [
    {
     "name": "stdout",
     "output_type": "stream",
     "text": [
      "Downloading...\n",
      "From: https://drive.google.com/uc?id=129tJELVDISk8LYUklFBXR9HU2nGiUGkn\n",
      "To: /content/wish-website-summer-products-with-rating-and-performance_2020-08.csv\n",
      "100% 1.23M/1.23M [00:00<00:00, 78.8MB/s]\n",
      "Downloading...\n",
      "From: https://drive.google.com/uc?id=1SuPa3zvm24oTzbqQkhVdNirCkIHFKJI2\n",
      "To: /content/unique-categories.sorted-by-count.csv\n",
      "100% 39.4k/39.4k [00:00<00:00, 54.0MB/s]\n",
      "Downloading...\n",
      "From: https://drive.google.com/uc?id=1LdihIxp-RZWaE-Nd5mhTGDsplE06iI1w\n",
      "To: /content/unique-categories.csv\n",
      "100% 33.8k/33.8k [00:00<00:00, 26.4MB/s]\n"
     ]
    }
   ],
   "source": [
    "!gdown --id 129tJELVDISk8LYUklFBXR9HU2nGiUGkn --output wish-website-summer-products-with-rating-and-performance_2020-08.csv\n",
    "!gdown --id 1SuPa3zvm24oTzbqQkhVdNirCkIHFKJI2 --output unique-categories.sorted-by-count.csv\n",
    "!gdown --id 1LdihIxp-RZWaE-Nd5mhTGDsplE06iI1w --output unique-categories.csv"
   ]
  },
  {
   "cell_type": "markdown",
   "metadata": {
    "id": "vBxPyqFNwjB0"
   },
   "source": [
    "### import the dataset "
   ]
  },
  {
   "cell_type": "code",
   "execution_count": null,
   "metadata": {
    "colab": {
     "base_uri": "https://localhost:8080/",
     "height": 264
    },
    "executionInfo": {
     "elapsed": 2639,
     "status": "ok",
     "timestamp": 1601650038465,
     "user": {
      "displayName": "Yatindra",
      "photoUrl": "https://lh3.googleusercontent.com/a-/AOh14GgyhRMwXEEqCncav1ghTui26QU38n9q8A3LHE_ktw=s64",
      "userId": "15503128090634612331"
     },
     "user_tz": -330
    },
    "id": "6-IVuz9pwjB1",
    "outputId": "39583a07-8ba8-4496-9265-f17317451a3e"
   },
   "outputs": [
    {
     "data": {
      "text/html": [
       "<div>\n",
       "<style scoped>\n",
       "    .dataframe tbody tr th:only-of-type {\n",
       "        vertical-align: middle;\n",
       "    }\n",
       "\n",
       "    .dataframe tbody tr th {\n",
       "        vertical-align: top;\n",
       "    }\n",
       "\n",
       "    .dataframe thead th {\n",
       "        text-align: right;\n",
       "    }\n",
       "</style>\n",
       "<table border=\"1\" class=\"dataframe\">\n",
       "  <thead>\n",
       "    <tr style=\"text-align: right;\">\n",
       "      <th></th>\n",
       "      <th>title_in_french</th>\n",
       "      <th>title_translated</th>\n",
       "      <th>listed_price</th>\n",
       "      <th>retail_price</th>\n",
       "      <th>currency_buyer</th>\n",
       "      <th>units_sold</th>\n",
       "      <th>uses_ad_boosts</th>\n",
       "      <th>rating</th>\n",
       "      <th>rating_count</th>\n",
       "      <th>rating_five_count</th>\n",
       "      <th>rating_four_count</th>\n",
       "      <th>rating_three_count</th>\n",
       "      <th>rating_two_count</th>\n",
       "      <th>rating_one_count</th>\n",
       "      <th>badges_count</th>\n",
       "      <th>badge_local_product</th>\n",
       "      <th>badge_product_quality</th>\n",
       "      <th>badge_fast_shipping</th>\n",
       "      <th>tags</th>\n",
       "      <th>product_color</th>\n",
       "      <th>product_variation_size_id</th>\n",
       "      <th>product_variation_inventory</th>\n",
       "      <th>shipping_option_name</th>\n",
       "      <th>shipping_option_price</th>\n",
       "      <th>shipping_is_express</th>\n",
       "      <th>countries_shipped_to</th>\n",
       "      <th>inventory_total</th>\n",
       "      <th>has_urgency_banner</th>\n",
       "      <th>urgency_text</th>\n",
       "      <th>origin_country</th>\n",
       "      <th>merchant_title</th>\n",
       "      <th>merchant_name</th>\n",
       "      <th>merchant_info_subtitle</th>\n",
       "      <th>merchant_rating_count</th>\n",
       "      <th>merchant_rating</th>\n",
       "      <th>merchant_id</th>\n",
       "      <th>merchant_has_profile_picture</th>\n",
       "      <th>merchant_profile_picture</th>\n",
       "      <th>product_url</th>\n",
       "      <th>product_picture</th>\n",
       "      <th>product_id</th>\n",
       "      <th>theme</th>\n",
       "      <th>crawl_month</th>\n",
       "    </tr>\n",
       "  </thead>\n",
       "  <tbody>\n",
       "    <tr>\n",
       "      <th>0</th>\n",
       "      <td>2020 Summer Vintage Flamingo Print  Pajamas Se...</td>\n",
       "      <td>2020 Summer Vintage Flamingo Print  Pajamas Se...</td>\n",
       "      <td>16.0</td>\n",
       "      <td>14</td>\n",
       "      <td>EUR</td>\n",
       "      <td>100</td>\n",
       "      <td>0</td>\n",
       "      <td>3.76</td>\n",
       "      <td>54</td>\n",
       "      <td>26.0</td>\n",
       "      <td>8.0</td>\n",
       "      <td>10.0</td>\n",
       "      <td>1.0</td>\n",
       "      <td>9.0</td>\n",
       "      <td>0</td>\n",
       "      <td>0</td>\n",
       "      <td>0</td>\n",
       "      <td>0</td>\n",
       "      <td>Summer,Fashion,womenunderwearsuit,printedpajam...</td>\n",
       "      <td>white</td>\n",
       "      <td>M</td>\n",
       "      <td>50</td>\n",
       "      <td>Livraison standard</td>\n",
       "      <td>4</td>\n",
       "      <td>0</td>\n",
       "      <td>34</td>\n",
       "      <td>50</td>\n",
       "      <td>1.0</td>\n",
       "      <td>Quantité limitée !</td>\n",
       "      <td>CN</td>\n",
       "      <td>zgrdejia</td>\n",
       "      <td>zgrdejia</td>\n",
       "      <td>(568 notes)</td>\n",
       "      <td>568</td>\n",
       "      <td>4.128521</td>\n",
       "      <td>595097d6a26f6e070cb878d1</td>\n",
       "      <td>0</td>\n",
       "      <td>NaN</td>\n",
       "      <td>https://www.wish.com/c/5e9ae51d43d6a96e303acdb0</td>\n",
       "      <td>https://contestimg.wish.com/api/webimage/5e9ae...</td>\n",
       "      <td>5e9ae51d43d6a96e303acdb0</td>\n",
       "      <td>summer</td>\n",
       "      <td>2020-08</td>\n",
       "    </tr>\n",
       "    <tr>\n",
       "      <th>1</th>\n",
       "      <td>SSHOUSE Summer Casual Sleeveless Soirée Party ...</td>\n",
       "      <td>Women's Casual Summer Sleeveless Sexy Mini Dress</td>\n",
       "      <td>8.0</td>\n",
       "      <td>22</td>\n",
       "      <td>EUR</td>\n",
       "      <td>20000</td>\n",
       "      <td>1</td>\n",
       "      <td>3.45</td>\n",
       "      <td>6135</td>\n",
       "      <td>2269.0</td>\n",
       "      <td>1027.0</td>\n",
       "      <td>1118.0</td>\n",
       "      <td>644.0</td>\n",
       "      <td>1077.0</td>\n",
       "      <td>0</td>\n",
       "      <td>0</td>\n",
       "      <td>0</td>\n",
       "      <td>0</td>\n",
       "      <td>Mini,womens dresses,Summer,Patchwork,fashion d...</td>\n",
       "      <td>green</td>\n",
       "      <td>XS</td>\n",
       "      <td>50</td>\n",
       "      <td>Livraison standard</td>\n",
       "      <td>2</td>\n",
       "      <td>0</td>\n",
       "      <td>41</td>\n",
       "      <td>50</td>\n",
       "      <td>1.0</td>\n",
       "      <td>Quantité limitée !</td>\n",
       "      <td>CN</td>\n",
       "      <td>SaraHouse</td>\n",
       "      <td>sarahouse</td>\n",
       "      <td>83 % avis positifs (17,752 notes)</td>\n",
       "      <td>17752</td>\n",
       "      <td>3.899673</td>\n",
       "      <td>56458aa03a698c35c9050988</td>\n",
       "      <td>0</td>\n",
       "      <td>NaN</td>\n",
       "      <td>https://www.wish.com/c/58940d436a0d3d5da4e95a38</td>\n",
       "      <td>https://contestimg.wish.com/api/webimage/58940...</td>\n",
       "      <td>58940d436a0d3d5da4e95a38</td>\n",
       "      <td>summer</td>\n",
       "      <td>2020-08</td>\n",
       "    </tr>\n",
       "    <tr>\n",
       "      <th>2</th>\n",
       "      <td>2020 Nouvelle Arrivée Femmes Printemps et Été ...</td>\n",
       "      <td>2020 New Arrival Women Spring and Summer Beach...</td>\n",
       "      <td>8.0</td>\n",
       "      <td>43</td>\n",
       "      <td>EUR</td>\n",
       "      <td>100</td>\n",
       "      <td>0</td>\n",
       "      <td>3.57</td>\n",
       "      <td>14</td>\n",
       "      <td>5.0</td>\n",
       "      <td>4.0</td>\n",
       "      <td>2.0</td>\n",
       "      <td>0.0</td>\n",
       "      <td>3.0</td>\n",
       "      <td>0</td>\n",
       "      <td>0</td>\n",
       "      <td>0</td>\n",
       "      <td>0</td>\n",
       "      <td>Summer,cardigan,women beachwear,chiffon,Sexy w...</td>\n",
       "      <td>leopardprint</td>\n",
       "      <td>XS</td>\n",
       "      <td>1</td>\n",
       "      <td>Livraison standard</td>\n",
       "      <td>3</td>\n",
       "      <td>0</td>\n",
       "      <td>36</td>\n",
       "      <td>50</td>\n",
       "      <td>1.0</td>\n",
       "      <td>Quantité limitée !</td>\n",
       "      <td>CN</td>\n",
       "      <td>hxt520</td>\n",
       "      <td>hxt520</td>\n",
       "      <td>86 % avis positifs (295 notes)</td>\n",
       "      <td>295</td>\n",
       "      <td>3.989831</td>\n",
       "      <td>5d464a1ffdf7bc44ee933c65</td>\n",
       "      <td>0</td>\n",
       "      <td>NaN</td>\n",
       "      <td>https://www.wish.com/c/5ea10e2c617580260d55310a</td>\n",
       "      <td>https://contestimg.wish.com/api/webimage/5ea10...</td>\n",
       "      <td>5ea10e2c617580260d55310a</td>\n",
       "      <td>summer</td>\n",
       "      <td>2020-08</td>\n",
       "    </tr>\n",
       "  </tbody>\n",
       "</table>\n",
       "</div>"
      ],
      "text/plain": [
       "                                     title_in_french  ... crawl_month\n",
       "0  2020 Summer Vintage Flamingo Print  Pajamas Se...  ...     2020-08\n",
       "1  SSHOUSE Summer Casual Sleeveless Soirée Party ...  ...     2020-08\n",
       "2  2020 Nouvelle Arrivée Femmes Printemps et Été ...  ...     2020-08\n",
       "\n",
       "[3 rows x 43 columns]"
      ]
     },
     "execution_count": 3,
     "metadata": {
      "tags": []
     },
     "output_type": "execute_result"
    }
   ],
   "source": [
    "df = pd.read_csv('wish-website-summer-products-with-rating-and-performance_2020-08.csv')\n",
    "df.head(3)"
   ]
  },
  {
   "cell_type": "markdown",
   "metadata": {
    "id": "MUhnNvfiwjB5"
   },
   "source": [
    "#### Let's start with having a look at the sorted `.csv` file"
   ]
  },
  {
   "cell_type": "code",
   "execution_count": null,
   "metadata": {
    "colab": {
     "base_uri": "https://localhost:8080/",
     "height": 395
    },
    "executionInfo": {
     "elapsed": 3539,
     "status": "ok",
     "timestamp": 1601650044227,
     "user": {
      "displayName": "Yatindra",
      "photoUrl": "https://lh3.googleusercontent.com/a-/AOh14GgyhRMwXEEqCncav1ghTui26QU38n9q8A3LHE_ktw=s64",
      "userId": "15503128090634612331"
     },
     "user_tz": -330
    },
    "id": "F72sPQ5PwjB5",
    "outputId": "3f61df2c-0847-4102-e64f-e68017b0f3f6"
   },
   "outputs": [
    {
     "data": {
      "image/png": "[encoded data removed]",
      "text/plain": [
       "<Figure size 864x360 with 1 Axes>"
      ]
     },
     "metadata": {
      "needs_background": "light",
      "tags": []
     },
     "output_type": "display_data"
    }
   ],
   "source": [
    "df2 = pd.read_csv('unique-categories.sorted-by-count.csv')\n",
    "\n",
    "fig, ax = plt.subplots(figsize=(12, 5))\n",
    "sns.barplot(x = 'keyword', y = 'count', data = df2[:20], ax = ax)\n",
    "\n",
    "ax.set(xlabel='Keyword', ylabel='Frequency')\n",
    "plt.xticks(rotation=45, ha='right')\n",
    "\n",
    "plt.show()"
   ]
  },
  {
   "cell_type": "markdown",
   "metadata": {
    "id": "JhOPQnyfwjB8"
   },
   "source": [
    "Looking at this, it isn't surprising that 'Summer' is the most-occuring tag for this dataset. However, further analysis shows that fashion keywords make up a majority of tags. Specifically, there are more female-oriented products ('women', 'dress', 'sexy',) than neutral/male-oriented products ('shorts', 'top', 'shirt')."
   ]
  },
  {
   "cell_type": "code",
   "execution_count": null,
   "metadata": {
    "colab": {
     "base_uri": "https://localhost:8080/",
     "height": 34
    },
    "executionInfo": {
     "elapsed": 1552,
     "status": "ok",
     "timestamp": 1601650048110,
     "user": {
      "displayName": "Yatindra",
      "photoUrl": "https://lh3.googleusercontent.com/a-/AOh14GgyhRMwXEEqCncav1ghTui26QU38n9q8A3LHE_ktw=s64",
      "userId": "15503128090634612331"
     },
     "user_tz": -330
    },
    "id": "g1sXOW0UxgIY",
    "outputId": "a6dc652b-1f87-4149-e0b5-7adc21d43247"
   },
   "outputs": [
    {
     "data": {
      "text/plain": [
       "(1573, 43)"
      ]
     },
     "execution_count": 5,
     "metadata": {
      "tags": []
     },
     "output_type": "execute_result"
    }
   ],
   "source": [
    "df.shape"
   ]
  },
  {
   "cell_type": "code",
   "execution_count": null,
   "metadata": {
    "colab": {
     "base_uri": "https://localhost:8080/",
     "height": 272
    },
    "executionInfo": {
     "elapsed": 1041,
     "status": "ok",
     "timestamp": 1601650049673,
     "user": {
      "displayName": "Yatindra",
      "photoUrl": "https://lh3.googleusercontent.com/a-/AOh14GgyhRMwXEEqCncav1ghTui26QU38n9q8A3LHE_ktw=s64",
      "userId": "15503128090634612331"
     },
     "user_tz": -330
    },
    "id": "o2WrDNmrwjB9",
    "outputId": "6f50b243-b18a-4710-dbc8-bdb7a0d5e577"
   },
   "outputs": [
    {
     "data": {
      "text/plain": [
       "Index(['title_in_french', 'title_translated', 'listed_price', 'retail_price',\n",
       "       'currency_buyer', 'units_sold', 'uses_ad_boosts', 'rating',\n",
       "       'rating_count', 'rating_five_count', 'rating_four_count',\n",
       "       'rating_three_count', 'rating_two_count', 'rating_one_count',\n",
       "       'badges_count', 'badge_local_product', 'badge_product_quality',\n",
       "       'badge_fast_shipping', 'tags', 'product_color',\n",
       "       'product_variation_size_id', 'product_variation_inventory',\n",
       "       'shipping_option_name', 'shipping_option_price', 'shipping_is_express',\n",
       "       'countries_shipped_to', 'inventory_total', 'has_urgency_banner',\n",
       "       'urgency_text', 'origin_country', 'merchant_title', 'merchant_name',\n",
       "       'merchant_info_subtitle', 'merchant_rating_count', 'merchant_rating',\n",
       "       'merchant_id', 'merchant_has_profile_picture',\n",
       "       'merchant_profile_picture', 'product_url', 'product_picture',\n",
       "       'product_id', 'theme', 'crawl_month'],\n",
       "      dtype='object')"
      ]
     },
     "execution_count": 6,
     "metadata": {
      "tags": []
     },
     "output_type": "execute_result"
    }
   ],
   "source": [
    "df.columns"
   ]
  },
  {
   "cell_type": "markdown",
   "metadata": {
    "id": "6mBGPCYcwjCB"
   },
   "source": [
    "Let's determine what each parameter is for:\n",
    "\n",
    "0.   `title_in_french` - The title of the product in the language that the site is set to (French).\n",
    "1.   `title_translated` - The title of the product in English.\n",
    "2.   `listed_price` - The price that the product sells for on Wish.\n",
    "3.   `retail price` - The reference price that the product sells for on other sites.\n",
    "4.   `currency_buyer` - The currency that the product is purchased in; EUR.\n",
    "5.   `units_sold` - Lower bound approximation of the units sold of the product.\n",
    "6.   `uses_ad_boost` - Denotes whether the product used ad boost or not (1 or 0).\n",
    "7.   `rating` - The mean rating of the product.\n",
    "8.   `rating_count` - The number of ratings of the product.\n",
    "9.   `rating_five_count` - The number of five-star ratings of the product.\n",
    "10.  `rating_four_count` - The number of four-star ratings of the product.\n",
    "11.  `rating_three_count` - The number of three-star ratings of the product.\n",
    "12.  `rating_two_count` - The number of two-star ratings of the product.\n",
    "13.  `rating_one_count` - The number of one-star ratings of the product.\n",
    "14.  `badges_count` - Number of badges the product has on its page.\n",
    "15.  `badge_local_product` - Signifies that the product was manufactured locally.\n",
    "16.  `badge_product_quality` - Signifies that a majority of buyers are satisfied with the product.\n",
    "17.  `badge_fast_shipping` - Signifies that the product is eligible for fast shipping.\n",
    "18.  `tags` - Product tags set by the seller.\n",
    "19.  `product_color` - Color of the product.\n",
    "20.  `product_variation_size_id` - Size of the product (if applicable).\n",
    "21.  `product_variation_inventory` - The amount of product availble for purchase at once; maximum is fifty.\n",
    "22.  `shipping_option_name` - The type of shipping for the product.\n",
    "23.  `shipping_option_price` - The price of shipping the product.\n",
    "24.  `shipping_is_express` - Denotes whether the product has the option of express shipping or not (1 or 0).\n",
    "25.  `countries_shipped_to` - The number of countries the product has been shipped to.\n",
    "26.  `inventory_total` - The total inventory of a product; seems to possess a maximum of fifty.\n",
    "27.  `has_urgency_banner` - Denotes whether the product had an emergency banner or not (1 or 0).\n",
    "28.  `urgency_text` - The text of the emergency banner (if applicable).\n",
    "29.  `origin_country` - The country the product was manufactured in.\n",
    "30.  `merchant_title` - The public name of the merchant.\n",
    "31.  `merchant_name` - The private name of the merchant.\n",
    "32.  `merchant_info_subtitle` - The attributes of the merchant (positive rating and votes).\n",
    "33.  `merchant_rating_count` - The number of ratings of the merchant.\n",
    "34.  `merchant_rating` - The mean rating of the merchant.\n",
    "35.  `merchant_id` - The unique ID of the merchant.\n",
    "36.  `merchant_has_profile_picture` - Denotes whether the merchant has a profile picture or not (1 or 0).\n",
    "37.  `merchant_profile_picture` - The URL to the merchant's profile picture (if applicable).\n",
    "38.  `product_url` - The Wish URL of the product.\n",
    "39.  `product_picture` - The URL of the product picture.\n",
    "40.  `product_id` - The unique ID of the product.\n",
    "41.  `theme` - The 'theme' of the product; summer.\n",
    "42.  `crawl_month` - The month that the information was scraped; 08-2020."
   ]
  },
  {
   "cell_type": "code",
   "execution_count": null,
   "metadata": {
    "colab": {
     "base_uri": "https://localhost:8080/",
     "height": 867
    },
    "executionInfo": {
     "elapsed": 1476,
     "status": "ok",
     "timestamp": 1601650057454,
     "user": {
      "displayName": "Yatindra",
      "photoUrl": "https://lh3.googleusercontent.com/a-/AOh14GgyhRMwXEEqCncav1ghTui26QU38n9q8A3LHE_ktw=s64",
      "userId": "15503128090634612331"
     },
     "user_tz": -330
    },
    "id": "YoCB6fn_wjCC",
    "outputId": "940bef50-bd1d-4b1c-f9f2-c11bbf0ae30d"
   },
   "outputs": [
    {
     "name": "stdout",
     "output_type": "stream",
     "text": [
      "<class 'pandas.core.frame.DataFrame'>\n",
      "RangeIndex: 1573 entries, 0 to 1572\n",
      "Data columns (total 43 columns):\n",
      " #   Column                        Non-Null Count  Dtype  \n",
      "---  ------                        --------------  -----  \n",
      " 0   title_in_french               1573 non-null   object \n",
      " 1   title_translated              1573 non-null   object \n",
      " 2   listed_price                  1573 non-null   float64\n",
      " 3   retail_price                  1573 non-null   int64  \n",
      " 4   currency_buyer                1573 non-null   object \n",
      " 5   units_sold                    1573 non-null   int64  \n",
      " 6   uses_ad_boosts                1573 non-null   int64  \n",
      " 7   rating                        1573 non-null   float64\n",
      " 8   rating_count                  1573 non-null   int64  \n",
      " 9   rating_five_count             1528 non-null   float64\n",
      " 10  rating_four_count             1528 non-null   float64\n",
      " 11  rating_three_count            1528 non-null   float64\n",
      " 12  rating_two_count              1528 non-null   float64\n",
      " 13  rating_one_count              1528 non-null   float64\n",
      " 14  badges_count                  1573 non-null   int64  \n",
      " 15  badge_local_product           1573 non-null   int64  \n",
      " 16  badge_product_quality         1573 non-null   int64  \n",
      " 17  badge_fast_shipping           1573 non-null   int64  \n",
      " 18  tags                          1573 non-null   object \n",
      " 19  product_color                 1532 non-null   object \n",
      " 20  product_variation_size_id     1559 non-null   object \n",
      " 21  product_variation_inventory   1573 non-null   int64  \n",
      " 22  shipping_option_name          1573 non-null   object \n",
      " 23  shipping_option_price         1573 non-null   int64  \n",
      " 24  shipping_is_express           1573 non-null   int64  \n",
      " 25  countries_shipped_to          1573 non-null   int64  \n",
      " 26  inventory_total               1573 non-null   int64  \n",
      " 27  has_urgency_banner            473 non-null    float64\n",
      " 28  urgency_text                  473 non-null    object \n",
      " 29  origin_country                1556 non-null   object \n",
      " 30  merchant_title                1573 non-null   object \n",
      " 31  merchant_name                 1569 non-null   object \n",
      " 32  merchant_info_subtitle        1572 non-null   object \n",
      " 33  merchant_rating_count         1573 non-null   int64  \n",
      " 34  merchant_rating               1573 non-null   float64\n",
      " 35  merchant_id                   1573 non-null   object \n",
      " 36  merchant_has_profile_picture  1573 non-null   int64  \n",
      " 37  merchant_profile_picture      226 non-null    object \n",
      " 38  product_url                   1573 non-null   object \n",
      " 39  product_picture               1573 non-null   object \n",
      " 40  product_id                    1573 non-null   object \n",
      " 41  theme                         1573 non-null   object \n",
      " 42  crawl_month                   1573 non-null   object \n",
      "dtypes: float64(9), int64(15), object(19)\n",
      "memory usage: 528.6+ KB\n"
     ]
    }
   ],
   "source": [
    "df.info()"
   ]
  },
  {
   "cell_type": "code",
   "execution_count": null,
   "metadata": {
    "colab": {
     "base_uri": "https://localhost:8080/",
     "height": 793
    },
    "executionInfo": {
     "elapsed": 1954,
     "status": "ok",
     "timestamp": 1601650063798,
     "user": {
      "displayName": "Yatindra",
      "photoUrl": "https://lh3.googleusercontent.com/a-/AOh14GgyhRMwXEEqCncav1ghTui26QU38n9q8A3LHE_ktw=s64",
      "userId": "15503128090634612331"
     },
     "user_tz": -330
    },
    "id": "hWBL5IjKwjCF",
    "outputId": "974a1472-d599-4b8a-d606-54db7cd4a929"
   },
   "outputs": [
    {
     "data": {
      "text/html": [
       "<div>\n",
       "<style scoped>\n",
       "    .dataframe tbody tr th:only-of-type {\n",
       "        vertical-align: middle;\n",
       "    }\n",
       "\n",
       "    .dataframe tbody tr th {\n",
       "        vertical-align: top;\n",
       "    }\n",
       "\n",
       "    .dataframe thead th {\n",
       "        text-align: right;\n",
       "    }\n",
       "</style>\n",
       "<table border=\"1\" class=\"dataframe\">\n",
       "  <thead>\n",
       "    <tr style=\"text-align: right;\">\n",
       "      <th></th>\n",
       "      <th>count</th>\n",
       "      <th>mean</th>\n",
       "      <th>std</th>\n",
       "      <th>min</th>\n",
       "      <th>25%</th>\n",
       "      <th>50%</th>\n",
       "      <th>75%</th>\n",
       "      <th>max</th>\n",
       "    </tr>\n",
       "  </thead>\n",
       "  <tbody>\n",
       "    <tr>\n",
       "      <th>listed_price</th>\n",
       "      <td>1573.0</td>\n",
       "      <td>8.325372</td>\n",
       "      <td>3.932030</td>\n",
       "      <td>1.000000</td>\n",
       "      <td>5.810000</td>\n",
       "      <td>8.00000</td>\n",
       "      <td>11.000000</td>\n",
       "      <td>49.0</td>\n",
       "    </tr>\n",
       "    <tr>\n",
       "      <th>retail_price</th>\n",
       "      <td>1573.0</td>\n",
       "      <td>23.288620</td>\n",
       "      <td>30.357863</td>\n",
       "      <td>1.000000</td>\n",
       "      <td>7.000000</td>\n",
       "      <td>10.00000</td>\n",
       "      <td>26.000000</td>\n",
       "      <td>252.0</td>\n",
       "    </tr>\n",
       "    <tr>\n",
       "      <th>units_sold</th>\n",
       "      <td>1573.0</td>\n",
       "      <td>4339.005086</td>\n",
       "      <td>9356.539302</td>\n",
       "      <td>1.000000</td>\n",
       "      <td>100.000000</td>\n",
       "      <td>1000.00000</td>\n",
       "      <td>5000.000000</td>\n",
       "      <td>100000.0</td>\n",
       "    </tr>\n",
       "    <tr>\n",
       "      <th>uses_ad_boosts</th>\n",
       "      <td>1573.0</td>\n",
       "      <td>0.432931</td>\n",
       "      <td>0.495639</td>\n",
       "      <td>0.000000</td>\n",
       "      <td>0.000000</td>\n",
       "      <td>0.00000</td>\n",
       "      <td>1.000000</td>\n",
       "      <td>1.0</td>\n",
       "    </tr>\n",
       "    <tr>\n",
       "      <th>rating</th>\n",
       "      <td>1573.0</td>\n",
       "      <td>3.820896</td>\n",
       "      <td>0.515374</td>\n",
       "      <td>1.000000</td>\n",
       "      <td>3.550000</td>\n",
       "      <td>3.85000</td>\n",
       "      <td>4.110000</td>\n",
       "      <td>5.0</td>\n",
       "    </tr>\n",
       "    <tr>\n",
       "      <th>rating_count</th>\n",
       "      <td>1573.0</td>\n",
       "      <td>889.659250</td>\n",
       "      <td>1983.928834</td>\n",
       "      <td>0.000000</td>\n",
       "      <td>24.000000</td>\n",
       "      <td>150.00000</td>\n",
       "      <td>855.000000</td>\n",
       "      <td>20744.0</td>\n",
       "    </tr>\n",
       "    <tr>\n",
       "      <th>rating_five_count</th>\n",
       "      <td>1528.0</td>\n",
       "      <td>442.263743</td>\n",
       "      <td>980.203270</td>\n",
       "      <td>0.000000</td>\n",
       "      <td>12.000000</td>\n",
       "      <td>79.00000</td>\n",
       "      <td>413.500000</td>\n",
       "      <td>11548.0</td>\n",
       "    </tr>\n",
       "    <tr>\n",
       "      <th>rating_four_count</th>\n",
       "      <td>1528.0</td>\n",
       "      <td>179.599476</td>\n",
       "      <td>400.516231</td>\n",
       "      <td>0.000000</td>\n",
       "      <td>5.000000</td>\n",
       "      <td>31.50000</td>\n",
       "      <td>168.250000</td>\n",
       "      <td>4152.0</td>\n",
       "    </tr>\n",
       "    <tr>\n",
       "      <th>rating_three_count</th>\n",
       "      <td>1528.0</td>\n",
       "      <td>134.549738</td>\n",
       "      <td>311.690656</td>\n",
       "      <td>0.000000</td>\n",
       "      <td>4.000000</td>\n",
       "      <td>24.00000</td>\n",
       "      <td>129.250000</td>\n",
       "      <td>3658.0</td>\n",
       "    </tr>\n",
       "    <tr>\n",
       "      <th>rating_two_count</th>\n",
       "      <td>1528.0</td>\n",
       "      <td>63.711387</td>\n",
       "      <td>151.343933</td>\n",
       "      <td>0.000000</td>\n",
       "      <td>2.000000</td>\n",
       "      <td>11.00000</td>\n",
       "      <td>62.000000</td>\n",
       "      <td>2003.0</td>\n",
       "    </tr>\n",
       "    <tr>\n",
       "      <th>rating_one_count</th>\n",
       "      <td>1528.0</td>\n",
       "      <td>95.735602</td>\n",
       "      <td>214.075544</td>\n",
       "      <td>0.000000</td>\n",
       "      <td>4.000000</td>\n",
       "      <td>20.00000</td>\n",
       "      <td>94.000000</td>\n",
       "      <td>2789.0</td>\n",
       "    </tr>\n",
       "    <tr>\n",
       "      <th>badges_count</th>\n",
       "      <td>1573.0</td>\n",
       "      <td>0.105531</td>\n",
       "      <td>0.340709</td>\n",
       "      <td>0.000000</td>\n",
       "      <td>0.000000</td>\n",
       "      <td>0.00000</td>\n",
       "      <td>0.000000</td>\n",
       "      <td>3.0</td>\n",
       "    </tr>\n",
       "    <tr>\n",
       "      <th>badge_local_product</th>\n",
       "      <td>1573.0</td>\n",
       "      <td>0.018436</td>\n",
       "      <td>0.134565</td>\n",
       "      <td>0.000000</td>\n",
       "      <td>0.000000</td>\n",
       "      <td>0.00000</td>\n",
       "      <td>0.000000</td>\n",
       "      <td>1.0</td>\n",
       "    </tr>\n",
       "    <tr>\n",
       "      <th>badge_product_quality</th>\n",
       "      <td>1573.0</td>\n",
       "      <td>0.074380</td>\n",
       "      <td>0.262472</td>\n",
       "      <td>0.000000</td>\n",
       "      <td>0.000000</td>\n",
       "      <td>0.00000</td>\n",
       "      <td>0.000000</td>\n",
       "      <td>1.0</td>\n",
       "    </tr>\n",
       "    <tr>\n",
       "      <th>badge_fast_shipping</th>\n",
       "      <td>1573.0</td>\n",
       "      <td>0.012715</td>\n",
       "      <td>0.112075</td>\n",
       "      <td>0.000000</td>\n",
       "      <td>0.000000</td>\n",
       "      <td>0.00000</td>\n",
       "      <td>0.000000</td>\n",
       "      <td>1.0</td>\n",
       "    </tr>\n",
       "    <tr>\n",
       "      <th>product_variation_inventory</th>\n",
       "      <td>1573.0</td>\n",
       "      <td>33.081373</td>\n",
       "      <td>21.353137</td>\n",
       "      <td>1.000000</td>\n",
       "      <td>6.000000</td>\n",
       "      <td>50.00000</td>\n",
       "      <td>50.000000</td>\n",
       "      <td>50.0</td>\n",
       "    </tr>\n",
       "    <tr>\n",
       "      <th>shipping_option_price</th>\n",
       "      <td>1573.0</td>\n",
       "      <td>2.345200</td>\n",
       "      <td>1.024371</td>\n",
       "      <td>1.000000</td>\n",
       "      <td>2.000000</td>\n",
       "      <td>2.00000</td>\n",
       "      <td>3.000000</td>\n",
       "      <td>12.0</td>\n",
       "    </tr>\n",
       "    <tr>\n",
       "      <th>shipping_is_express</th>\n",
       "      <td>1573.0</td>\n",
       "      <td>0.002543</td>\n",
       "      <td>0.050379</td>\n",
       "      <td>0.000000</td>\n",
       "      <td>0.000000</td>\n",
       "      <td>0.00000</td>\n",
       "      <td>0.000000</td>\n",
       "      <td>1.0</td>\n",
       "    </tr>\n",
       "    <tr>\n",
       "      <th>countries_shipped_to</th>\n",
       "      <td>1573.0</td>\n",
       "      <td>40.456453</td>\n",
       "      <td>20.301203</td>\n",
       "      <td>6.000000</td>\n",
       "      <td>31.000000</td>\n",
       "      <td>40.00000</td>\n",
       "      <td>43.000000</td>\n",
       "      <td>140.0</td>\n",
       "    </tr>\n",
       "    <tr>\n",
       "      <th>inventory_total</th>\n",
       "      <td>1573.0</td>\n",
       "      <td>49.821360</td>\n",
       "      <td>2.562799</td>\n",
       "      <td>1.000000</td>\n",
       "      <td>50.000000</td>\n",
       "      <td>50.00000</td>\n",
       "      <td>50.000000</td>\n",
       "      <td>50.0</td>\n",
       "    </tr>\n",
       "    <tr>\n",
       "      <th>has_urgency_banner</th>\n",
       "      <td>473.0</td>\n",
       "      <td>1.000000</td>\n",
       "      <td>0.000000</td>\n",
       "      <td>1.000000</td>\n",
       "      <td>1.000000</td>\n",
       "      <td>1.00000</td>\n",
       "      <td>1.000000</td>\n",
       "      <td>1.0</td>\n",
       "    </tr>\n",
       "    <tr>\n",
       "      <th>merchant_rating_count</th>\n",
       "      <td>1573.0</td>\n",
       "      <td>26495.832804</td>\n",
       "      <td>78474.455607</td>\n",
       "      <td>0.000000</td>\n",
       "      <td>1987.000000</td>\n",
       "      <td>7936.00000</td>\n",
       "      <td>24564.000000</td>\n",
       "      <td>2174765.0</td>\n",
       "    </tr>\n",
       "    <tr>\n",
       "      <th>merchant_rating</th>\n",
       "      <td>1573.0</td>\n",
       "      <td>4.032345</td>\n",
       "      <td>0.204768</td>\n",
       "      <td>2.333333</td>\n",
       "      <td>3.917353</td>\n",
       "      <td>4.04065</td>\n",
       "      <td>4.161797</td>\n",
       "      <td>5.0</td>\n",
       "    </tr>\n",
       "    <tr>\n",
       "      <th>merchant_has_profile_picture</th>\n",
       "      <td>1573.0</td>\n",
       "      <td>0.143675</td>\n",
       "      <td>0.350871</td>\n",
       "      <td>0.000000</td>\n",
       "      <td>0.000000</td>\n",
       "      <td>0.00000</td>\n",
       "      <td>0.000000</td>\n",
       "      <td>1.0</td>\n",
       "    </tr>\n",
       "  </tbody>\n",
       "</table>\n",
       "</div>"
      ],
      "text/plain": [
       "                               count          mean  ...           75%        max\n",
       "listed_price                  1573.0      8.325372  ...     11.000000       49.0\n",
       "retail_price                  1573.0     23.288620  ...     26.000000      252.0\n",
       "units_sold                    1573.0   4339.005086  ...   5000.000000   100000.0\n",
       "uses_ad_boosts                1573.0      0.432931  ...      1.000000        1.0\n",
       "rating                        1573.0      3.820896  ...      4.110000        5.0\n",
       "rating_count                  1573.0    889.659250  ...    855.000000    20744.0\n",
       "rating_five_count             1528.0    442.263743  ...    413.500000    11548.0\n",
       "rating_four_count             1528.0    179.599476  ...    168.250000     4152.0\n",
       "rating_three_count            1528.0    134.549738  ...    129.250000     3658.0\n",
       "rating_two_count              1528.0     63.711387  ...     62.000000     2003.0\n",
       "rating_one_count              1528.0     95.735602  ...     94.000000     2789.0\n",
       "badges_count                  1573.0      0.105531  ...      0.000000        3.0\n",
       "badge_local_product           1573.0      0.018436  ...      0.000000        1.0\n",
       "badge_product_quality         1573.0      0.074380  ...      0.000000        1.0\n",
       "badge_fast_shipping           1573.0      0.012715  ...      0.000000        1.0\n",
       "product_variation_inventory   1573.0     33.081373  ...     50.000000       50.0\n",
       "shipping_option_price         1573.0      2.345200  ...      3.000000       12.0\n",
       "shipping_is_express           1573.0      0.002543  ...      0.000000        1.0\n",
       "countries_shipped_to          1573.0     40.456453  ...     43.000000      140.0\n",
       "inventory_total               1573.0     49.821360  ...     50.000000       50.0\n",
       "has_urgency_banner             473.0      1.000000  ...      1.000000        1.0\n",
       "merchant_rating_count         1573.0  26495.832804  ...  24564.000000  2174765.0\n",
       "merchant_rating               1573.0      4.032345  ...      4.161797        5.0\n",
       "merchant_has_profile_picture  1573.0      0.143675  ...      0.000000        1.0\n",
       "\n",
       "[24 rows x 8 columns]"
      ]
     },
     "execution_count": 8,
     "metadata": {
      "tags": []
     },
     "output_type": "execute_result"
    }
   ],
   "source": [
    "df.describe().T"
   ]
  },
  {
   "cell_type": "markdown",
   "metadata": {
    "id": "jN4zZo61wjCJ"
   },
   "source": [
    "## Data Cleaning"
   ]
  },
  {
   "cell_type": "markdown",
   "metadata": {
    "id": "aaRja9M4wjCK"
   },
   "source": [
    "### Check for any null values"
   ]
  },
  {
   "cell_type": "code",
   "execution_count": null,
   "metadata": {
    "colab": {
     "base_uri": "https://localhost:8080/",
     "height": 255
    },
    "executionInfo": {
     "elapsed": 2353,
     "status": "ok",
     "timestamp": 1601650070793,
     "user": {
      "displayName": "Yatindra",
      "photoUrl": "https://lh3.googleusercontent.com/a-/AOh14GgyhRMwXEEqCncav1ghTui26QU38n9q8A3LHE_ktw=s64",
      "userId": "15503128090634612331"
     },
     "user_tz": -330
    },
    "id": "5bXSAgflwjCK",
    "outputId": "202cd54d-f2a4-438e-bf61-8ddbb58545f4"
   },
   "outputs": [
    {
     "data": {
      "text/plain": [
       "rating_five_count              45\n",
       "rating_four_count              45\n",
       "rating_three_count             45\n",
       "rating_two_count               45\n",
       "rating_one_count               45\n",
       "product_color                  41\n",
       "product_variation_size_id      14\n",
       "has_urgency_banner           1100\n",
       "urgency_text                 1100\n",
       "origin_country                 17\n",
       "merchant_name                   4\n",
       "merchant_info_subtitle          1\n",
       "merchant_profile_picture     1347\n",
       "dtype: int64"
      ]
     },
     "execution_count": 9,
     "metadata": {
      "tags": []
     },
     "output_type": "execute_result"
    }
   ],
   "source": [
    "df.isnull().sum()[df.isnull().sum() !=0]"
   ]
  },
  {
   "cell_type": "markdown",
   "metadata": {
    "id": "xkw8h6oIwjCO"
   },
   "source": [
    "### Plot of missing data"
   ]
  },
  {
   "cell_type": "code",
   "execution_count": null,
   "metadata": {
    "colab": {
     "base_uri": "https://localhost:8080/",
     "height": 391
    },
    "executionInfo": {
     "elapsed": 2623,
     "status": "ok",
     "timestamp": 1601650110031,
     "user": {
      "displayName": "Yatindra",
      "photoUrl": "https://lh3.googleusercontent.com/a-/AOh14GgyhRMwXEEqCncav1ghTui26QU38n9q8A3LHE_ktw=s64",
      "userId": "15503128090634612331"
     },
     "user_tz": -330
    },
    "id": "6dvSeNzbwjCO",
    "outputId": "27724c71-15b6-42db-f7fb-49f16f80ef69"
   },
   "outputs": [
    {
     "data": {
      "image/png": "[encoded data removed]",
      "text/plain": [
       "<Figure size 576x432 with 1 Axes>"
      ]
     },
     "metadata": {
      "needs_background": "light",
      "tags": []
     },
     "output_type": "display_data"
    }
   ],
   "source": [
    "def plot_missing_data(df):\n",
    "    columns_with_null = df.columns[df.isna().sum() > 0]\n",
    "    null_pct = (df[columns_with_null].isna().sum() / df.shape[0]).sort_values(ascending=False) * 100\n",
    "    plt.figure(figsize=(8,6));\n",
    "    sns.barplot(y = null_pct.index, x = null_pct, orient='h')\n",
    "    plt.title('% Na values in dataframe by columns');\n",
    "    \n",
    "plot_missing_data(df)"
   ]
  },
  {
   "cell_type": "markdown",
   "metadata": {
    "id": "6wEnnV7QwjCR"
   },
   "source": [
    "**Lets take a look at the columns with more than 50% null values and check whether they are useful or not**"
   ]
  },
  {
   "cell_type": "code",
   "execution_count": null,
   "metadata": {
    "colab": {
     "base_uri": "https://localhost:8080/",
     "height": 221
    },
    "executionInfo": {
     "elapsed": 4005,
     "status": "ok",
     "timestamp": 1601650117205,
     "user": {
      "displayName": "Yatindra",
      "photoUrl": "https://lh3.googleusercontent.com/a-/AOh14GgyhRMwXEEqCncav1ghTui26QU38n9q8A3LHE_ktw=s64",
      "userId": "15503128090634612331"
     },
     "user_tz": -330
    },
    "id": "oCeY8stkwjCV",
    "outputId": "48930eb2-e08f-4a56-e985-a1104bc4ad25"
   },
   "outputs": [
    {
     "data": {
      "text/plain": [
       "https://s3-us-west-1.amazonaws.com/sweeper-production-merchantimage/dp_5acaf29d5ebcfd72403106a8.jpg    12\n",
       "https://s3-us-west-1.amazonaws.com/sweeper-production-merchantimage/dp_5533c83986ff95173dc017d0.jpg     8\n",
       "https://s3-us-west-1.amazonaws.com/sweeper-production-merchantimage/dp_58ad449708de0c6dc59d9e06.jpg     6\n",
       "https://s3-us-west-1.amazonaws.com/sweeper-production-merchantimage/dp_55c8a4c33a698c6010edcd9e.jpg     6\n",
       "https://s3-us-west-1.amazonaws.com/sweeper-production-merchantimage/dp_577fb2b368116418674befd9.jpg     5\n",
       "                                                                                                       ..\n",
       "https://s3-us-west-1.amazonaws.com/sweeper-production-merchantimage/dp_582bd2fde18c0f0a402ba101.jpg     1\n",
       "https://s3-us-west-1.amazonaws.com/sweeper-production-merchantimage/dp_54869cf344a28275e008fb00.jpg     1\n",
       "https://s3-us-west-1.amazonaws.com/sweeper-production-merchantimage/dp_56f0f2bdc3c3715871ade946.jpg     1\n",
       "https://s3-us-west-1.amazonaws.com/sweeper-production-merchantimage/dp_55311a071a8a220c1b804371.jpg     1\n",
       "https://s3-us-west-1.amazonaws.com/sweeper-production-merchantimage/dp_57973560cb38dd77d126e9f1.jpg     1\n",
       "Name: merchant_profile_picture, Length: 125, dtype: int64"
      ]
     },
     "execution_count": 11,
     "metadata": {
      "tags": []
     },
     "output_type": "execute_result"
    }
   ],
   "source": [
    "# Merchant Profile Picture\n",
    "\n",
    "df['merchant_profile_picture'].value_counts()"
   ]
  },
  {
   "cell_type": "markdown",
   "metadata": {
    "id": "megQ-37LwjCY"
   },
   "source": [
    "* merchant_profile_picture contains the url to merchants profile picture where more than 80% of data is missing, \n",
    "* We can purge this as its not relavent \n"
   ]
  },
  {
   "cell_type": "code",
   "execution_count": null,
   "metadata": {
    "id": "P1vzbPiBwjCZ"
   },
   "outputs": [],
   "source": [
    "df = df.drop(['merchant_profile_picture'],axis = 1)"
   ]
  },
  {
   "cell_type": "code",
   "execution_count": null,
   "metadata": {
    "colab": {
     "base_uri": "https://localhost:8080/",
     "height": 68
    },
    "executionInfo": {
     "elapsed": 2595,
     "status": "ok",
     "timestamp": 1601650153307,
     "user": {
      "displayName": "Yatindra",
      "photoUrl": "https://lh3.googleusercontent.com/a-/AOh14GgyhRMwXEEqCncav1ghTui26QU38n9q8A3LHE_ktw=s64",
      "userId": "15503128090634612331"
     },
     "user_tz": -330
    },
    "id": "pAIzVJgZwjCf",
    "outputId": "3d2f168a-7ca8-46be-c57f-301dcebc06a4"
   },
   "outputs": [
    {
     "name": "stdout",
     "output_type": "stream",
     "text": [
      "Unique values:  [ 1. nan]\n",
      "Value counts:  1.0    473\n",
      "Name: has_urgency_banner, dtype: int64\n"
     ]
    }
   ],
   "source": [
    "# Has Urgency Banner\n",
    "\n",
    "print(\"Unique values: \", df['has_urgency_banner'].unique())\n",
    "print(\"Value counts: \", df['has_urgency_banner'].value_counts())"
   ]
  },
  {
   "cell_type": "markdown",
   "metadata": {
    "id": "yYf2HrGawjCj"
   },
   "source": [
    "**has_urgency_banner is a binary column which tells us whether the product has an urgency banner or not, so we can replace nan's with 0's to get rid of the nan's** "
   ]
  },
  {
   "cell_type": "code",
   "execution_count": null,
   "metadata": {
    "colab": {
     "base_uri": "https://localhost:8080/",
     "height": 85
    },
    "executionInfo": {
     "elapsed": 1724,
     "status": "ok",
     "timestamp": 1601650158676,
     "user": {
      "displayName": "Yatindra",
      "photoUrl": "https://lh3.googleusercontent.com/a-/AOh14GgyhRMwXEEqCncav1ghTui26QU38n9q8A3LHE_ktw=s64",
      "userId": "15503128090634612331"
     },
     "user_tz": -330
    },
    "id": "Se4sjZ87wjCk",
    "outputId": "3111e037-1df0-4412-c3cb-b9f76ab63327"
   },
   "outputs": [
    {
     "name": "stdout",
     "output_type": "stream",
     "text": [
      "Unique values:  [1. 0.]\n",
      "Value counts:  0.0    1100\n",
      "1.0     473\n",
      "Name: has_urgency_banner, dtype: int64\n"
     ]
    }
   ],
   "source": [
    "df['has_urgency_banner'] = df['has_urgency_banner'].replace(np.nan,0)\n",
    "print(\"Unique values: \", df['has_urgency_banner'].unique())\n",
    "print(\"Value counts: \", df['has_urgency_banner'].value_counts())"
   ]
  },
  {
   "cell_type": "code",
   "execution_count": null,
   "metadata": {
    "colab": {
     "base_uri": "https://localhost:8080/",
     "height": 51
    },
    "executionInfo": {
     "elapsed": 2865,
     "status": "ok",
     "timestamp": 1601650172277,
     "user": {
      "displayName": "Yatindra",
      "photoUrl": "https://lh3.googleusercontent.com/a-/AOh14GgyhRMwXEEqCncav1ghTui26QU38n9q8A3LHE_ktw=s64",
      "userId": "15503128090634612331"
     },
     "user_tz": -330
    },
    "id": "ghxg78o2wjCs",
    "outputId": "79052b06-32bc-46b0-9c61-d7c0a46b06df"
   },
   "outputs": [
    {
     "data": {
      "text/plain": [
       "array(['Quantité limitée !', nan, 'Réduction sur les achats en gros'],\n",
       "      dtype=object)"
      ]
     },
     "execution_count": 15,
     "metadata": {
      "tags": []
     },
     "output_type": "execute_result"
    }
   ],
   "source": [
    "# Urgency Text\n",
    "\n",
    "df['urgency_text'].unique()"
   ]
  },
  {
   "cell_type": "markdown",
   "metadata": {
    "id": "DcMZreSpwjCv"
   },
   "source": [
    "'Quantité limitée !' translates to 'Quantity Limited' <br>\n",
    "and 'Réduction sur les achats en gros' means 'discount on wholesale purchases' <br>\n",
    "rest are all nan, let's make them right"
   ]
  },
  {
   "cell_type": "code",
   "execution_count": null,
   "metadata": {
    "colab": {
     "base_uri": "https://localhost:8080/",
     "height": 187
    },
    "executionInfo": {
     "elapsed": 1869,
     "status": "ok",
     "timestamp": 1601650215956,
     "user": {
      "displayName": "Yatindra",
      "photoUrl": "https://lh3.googleusercontent.com/a-/AOh14GgyhRMwXEEqCncav1ghTui26QU38n9q8A3LHE_ktw=s64",
      "userId": "15503128090634612331"
     },
     "user_tz": -330
    },
    "id": "UqzFVaYnwjCv",
    "outputId": "a58e5495-c0b2-4be2-8bf8-77ae62fe3f0d"
   },
   "outputs": [
    {
     "name": "stdout",
     "output_type": "stream",
     "text": [
      "0    QuantityLimited\n",
      "1    QuantityLimited\n",
      "2    QuantityLimited\n",
      "3             noText\n",
      "4    QuantityLimited\n",
      "Name: urgency_text, dtype: object\n",
      "noText               1100\n",
      "QuantityLimited       472\n",
      "WholesaleDiscount       1\n",
      "Name: urgency_text, dtype: int64\n"
     ]
    }
   ],
   "source": [
    "df['urgency_text']=df['urgency_text'].replace({'Quantité limitée !':'QuantityLimited',\n",
    "                                               'Réduction sur les achats en gros':'WholesaleDiscount',\n",
    "                                               np.nan:'noText'})\n",
    "print(df['urgency_text'][:5])\n",
    "print(df['urgency_text'].value_counts())"
   ]
  },
  {
   "cell_type": "code",
   "execution_count": null,
   "metadata": {
    "colab": {
     "base_uri": "https://localhost:8080/",
     "height": 391
    },
    "executionInfo": {
     "elapsed": 3154,
     "status": "ok",
     "timestamp": 1601650221502,
     "user": {
      "displayName": "Yatindra",
      "photoUrl": "https://lh3.googleusercontent.com/a-/AOh14GgyhRMwXEEqCncav1ghTui26QU38n9q8A3LHE_ktw=s64",
      "userId": "15503128090634612331"
     },
     "user_tz": -330
    },
    "id": "Dd5w4GNBwjCx",
    "outputId": "ceb60ae1-9c97-4b51-b65a-18a60790df36"
   },
   "outputs": [
    {
     "data": {
      "image/png": "[encoded data removed]",
      "text/plain": [
       "<Figure size 576x432 with 1 Axes>"
      ]
     },
     "metadata": {
      "needs_background": "light",
      "tags": []
     },
     "output_type": "display_data"
    }
   ],
   "source": [
    "def plot_missing_data(df):\n",
    "    columns_with_null = df.columns[df.isna().sum() > 0]\n",
    "    null_pct = (df[columns_with_null].isna().sum() / df.shape[0]).sort_values(ascending=False) * 100\n",
    "    plt.figure(figsize=(8,6));\n",
    "    sns.barplot(y = null_pct.index, x = null_pct, orient='h')\n",
    "    plt.title('% Na values in dataframe by columns');\n",
    "    \n",
    "plot_missing_data(df)"
   ]
  },
  {
   "cell_type": "markdown",
   "metadata": {
    "id": "QfYHTgL1wjC0"
   },
   "source": [
    "### rating columns\n",
    "\n",
    "Now let's process the columns with ratings, all the rating count columns has same number of values missing i.e. 45 missing values but the rating_count column has no na values, lets check the ratin_count where values are mising in other rating count columns"
   ]
  },
  {
   "cell_type": "code",
   "execution_count": null,
   "metadata": {
    "id": "Y31sWkLhwjC0"
   },
   "outputs": [],
   "source": [
    "rating_columns = ['rating_one_count','rating_two_count','rating_three_count','rating_four_count','rating_five_count']\n",
    "df[rating_columns] = df[rating_columns].fillna(value=-1)"
   ]
  },
  {
   "cell_type": "code",
   "execution_count": null,
   "metadata": {
    "colab": {
     "base_uri": "https://localhost:8080/",
     "height": 51
    },
    "executionInfo": {
     "elapsed": 2189,
     "status": "ok",
     "timestamp": 1601650228750,
     "user": {
      "displayName": "Yatindra",
      "photoUrl": "https://lh3.googleusercontent.com/a-/AOh14GgyhRMwXEEqCncav1ghTui26QU38n9q8A3LHE_ktw=s64",
      "userId": "15503128090634612331"
     },
     "user_tz": -330
    },
    "id": "mP6_ii74wjC3",
    "outputId": "60c35d3b-12b1-4ac9-c69f-c24dfe162f4f"
   },
   "outputs": [
    {
     "data": {
      "text/plain": [
       "0    45\n",
       "Name: rating_count, dtype: int64"
      ]
     },
     "execution_count": 20,
     "metadata": {
      "tags": []
     },
     "output_type": "execute_result"
    }
   ],
   "source": [
    "df.loc[df['rating_five_count']==-1,'rating_count'].value_counts()"
   ]
  },
  {
   "cell_type": "markdown",
   "metadata": {
    "id": "N_HUfLBBwjC5"
   },
   "source": [
    "all values in the rating_count column are 0 where there are na values in other rating count columns so lets fill 0 in place of the na values"
   ]
  },
  {
   "cell_type": "code",
   "execution_count": null,
   "metadata": {
    "id": "n9oWNiOpwjC5"
   },
   "outputs": [],
   "source": [
    "df[rating_columns]=df[rating_columns].replace(-1,0)"
   ]
  },
  {
   "cell_type": "code",
   "execution_count": null,
   "metadata": {
    "colab": {
     "base_uri": "https://localhost:8080/",
     "height": 391
    },
    "executionInfo": {
     "elapsed": 1810,
     "status": "ok",
     "timestamp": 1601650235093,
     "user": {
      "displayName": "Yatindra",
      "photoUrl": "https://lh3.googleusercontent.com/a-/AOh14GgyhRMwXEEqCncav1ghTui26QU38n9q8A3LHE_ktw=s64",
      "userId": "15503128090634612331"
     },
     "user_tz": -330
    },
    "id": "pQcuB65awjC7",
    "outputId": "1ee45b07-e079-4d60-dc66-1eded495550f"
   },
   "outputs": [
    {
     "data": {
      "image/png": "[encoded data removed]",
      "text/plain": [
       "<Figure size 576x432 with 1 Axes>"
      ]
     },
     "metadata": {
      "needs_background": "light",
      "tags": []
     },
     "output_type": "display_data"
    }
   ],
   "source": [
    "def plot_missing_data(df):\n",
    "    columns_with_null = df.columns[df.isna().sum() > 0]\n",
    "    null_pct = (df[columns_with_null].isna().sum() / df.shape[0]).sort_values(ascending=False) * 100\n",
    "    plt.figure(figsize=(8,6));\n",
    "    sns.barplot(y = null_pct.index, x = null_pct, orient='h')\n",
    "    plt.title('% Na values in dataframe by columns');\n",
    "    \n",
    "plot_missing_data(df)"
   ]
  },
  {
   "cell_type": "code",
   "execution_count": null,
   "metadata": {
    "id": "fdbltD8PwjC-"
   },
   "outputs": [],
   "source": [
    "# Let's move to the remaining column"
   ]
  },
  {
   "cell_type": "markdown",
   "metadata": {
    "id": "0b3imbdYwjDB"
   },
   "source": [
    "#### Product Color\n",
    "\n",
    "Looking at the unique values, there are over 100 categories.\n",
    "I've manually grouped each value into their respective general colors except pink (a shade of red), it has enough products to be it's own group."
   ]
  },
  {
   "cell_type": "code",
   "execution_count": null,
   "metadata": {
    "colab": {
     "base_uri": "https://localhost:8080/",
     "height": 527
    },
    "executionInfo": {
     "elapsed": 16011,
     "status": "ok",
     "timestamp": 1601650286534,
     "user": {
      "displayName": "Yatindra",
      "photoUrl": "https://lh3.googleusercontent.com/a-/AOh14GgyhRMwXEEqCncav1ghTui26QU38n9q8A3LHE_ktw=s64",
      "userId": "15503128090634612331"
     },
     "user_tz": -330
    },
    "id": "rUnZe2SewjDB",
    "outputId": "4606197e-36d5-4a91-f4fd-9eec7587f071"
   },
   "outputs": [
    {
     "name": "stdout",
     "output_type": "stream",
     "text": [
      "Unique values:  ['white' 'green' 'leopardprint' 'black' 'yellow' 'navyblue' 'blue' 'beige'\n",
      " 'grey' 'lightblue' 'orange' 'red' 'Black' 'armygreen' nan 'pink' 'khaki'\n",
      " 'red & blue' 'blue & pink' 'RED' 'white & green' 'winered'\n",
      " 'black & green' 'purple' 'whitefloral' 'floral' 'fluorescentgreen'\n",
      " 'orange & camouflage' 'lightyellow' 'coolblack' 'multicolor' 'camouflage'\n",
      " 'lightpink' 'pink & black' 'silver' 'Army green' 'lightgreen' 'mintgreen'\n",
      " 'pink & grey' 'gray' 'coffee' 'rose' 'light green' 'leopard'\n",
      " 'black & white' 'orange-red' 'dustypink' 'White' 'star' 'white & black'\n",
      " 'apricot' 'skyblue' 'burgundy' 'claret' 'pink & white' 'rosered' 'tan'\n",
      " 'navy blue' 'wine red' 'lightred' 'Pink' 'coralred' 'brown' 'lakeblue'\n",
      " 'darkblue' 'camel' 'pink & blue' 'nude' 'Blue' 'lightpurple' 'army'\n",
      " 'black & stripe' 'Rose red' 'greysnakeskinprint' 'denimblue' 'applegreen'\n",
      " 'offwhite' 'lightgray' 'navy' 'gray & white' 'brown & yellow'\n",
      " 'winered & yellow' 'army green' 'whitestripe' 'rainbow' 'lightgrey'\n",
      " 'watermelonred' 'prussianblue' 'navyblue & white' 'white & red' 'wine'\n",
      " 'ivory' 'black & yellow' 'jasper' 'lightkhaki' 'offblack' 'violet'\n",
      " 'black & blue' 'blackwhite' 'darkgreen' 'rosegold' 'gold']\n",
      "Value counts:\n",
      "black          302\n",
      "white          254\n",
      "yellow         105\n",
      "blue            99\n",
      "pink            99\n",
      "              ... \n",
      "offblack         1\n",
      "red & blue       1\n",
      "lightpurple      1\n",
      "jasper           1\n",
      "lightgray        1\n",
      "Name: product_color, Length: 101, dtype: int64\n"
     ]
    }
   ],
   "source": [
    "print(\"Unique values: \", df['product_color'].unique())\n",
    "print(\"Value counts:\")\n",
    "print(df['product_color'].value_counts())"
   ]
  },
  {
   "cell_type": "code",
   "execution_count": null,
   "metadata": {
    "colab": {
     "base_uri": "https://localhost:8080/",
     "height": 357
    },
    "executionInfo": {
     "elapsed": 14604,
     "status": "ok",
     "timestamp": 1601650286535,
     "user": {
      "displayName": "Yatindra",
      "photoUrl": "https://lh3.googleusercontent.com/a-/AOh14GgyhRMwXEEqCncav1ghTui26QU38n9q8A3LHE_ktw=s64",
      "userId": "15503128090634612331"
     },
     "user_tz": -330
    },
    "id": "yShEIiCLwjDE",
    "outputId": "8d81a00d-cf4f-44d0-88cf-b8d715c79a23"
   },
   "outputs": [
    {
     "name": "stdout",
     "output_type": "stream",
     "text": [
      "Unique values:  ['white' 'green' 'pattern' 'black' 'yellow' 'blue' 'brown' 'grey' 'orange'\n",
      " 'red' 'unknown' 'pink' 'twocolor' 'purple' 'tan' 'darkgreen']\n",
      "Value counts:\n",
      "black        308\n",
      "white        260\n",
      "blue         164\n",
      "red          148\n",
      "green        137\n",
      "pink         108\n",
      "yellow       108\n",
      "grey          86\n",
      "purple        55\n",
      "brown         44\n",
      "unknown       41\n",
      "twocolor      40\n",
      "pattern       40\n",
      "orange        32\n",
      "tan            1\n",
      "darkgreen      1\n",
      "Name: product_color, dtype: int64\n"
     ]
    }
   ],
   "source": [
    "color_map = {'leopardprint' : 'pattern', 'navyblue' : 'blue', 'beige' : 'brown', 'lightblue' : 'blue',\n",
    "             'armygreen' : 'green', np.nan : 'unknown', 'khaki' : 'brown', 'red&blue' : 'twocolor', \n",
    "             'blue&pink' : 'twocolor', 'white&green' : 'twocolor', 'winered' : 'red', 'black&green' : 'twocolor',\n",
    "             'whitefloral' : 'pattern', 'floral' : 'pattern', 'fluorescentgreen' : 'green','orange&camouflage' : 'pattern',\n",
    "             'lightyellow' : 'yellow', 'coolblack' : 'black', 'multicolor' : 'pattern', 'camouflage' : 'pattern', \n",
    "             'lightpink' : 'pink', 'pink&black' : 'twocolor', 'silver' : 'grey', 'lightgreen' : 'green', \n",
    "             'mintgreen' : 'green', 'pink&grey' : 'twocolor', 'gray' : 'grey', 'coffee' :'brown', 'rose' : 'red',\n",
    "             'leopard' : 'pattern', 'black&white' : 'twocolor', 'orange-red' : 'orange', 'dustypink' : 'pink', \n",
    "             'star' : 'pattern', 'white&black' : 'twocolor', 'apricot' : 'orange', 'skyblue' : 'blue', \n",
    "             'burgundy' : 'red', 'claret' : 'red', 'pink&white' : 'twocolor', 'rosered' : 'red', 'lightred' : 'red', \n",
    "             'coralred' : 'red', 'lakeblue' : 'blue', 'darkblue' : 'blue', 'camel' : 'brown','pink&blue' : 'twocolor',\n",
    "             'nude' : 'brown', 'lightpurple' : 'purple', 'army' : 'pattern', 'black&stripe' : 'twocolor',\n",
    "             'greysnakeskinprint' : 'pattern', 'denimblue' :  'blue', 'applegreen' : 'green', 'offwhite' : 'white',\n",
    "             'lightgray' : 'grey', 'navy' : 'blue', 'gray&white' : 'twocolor', 'brown&yellow' : 'twocolor',\n",
    "             'winered&yellow' : 'twocolor', 'whitestripe' : 'white', 'rainbow' : 'pattern', 'lightgrey' : 'grey',\n",
    "             'watermelonred' : 'red', 'prussianblue' : 'blue', 'navyblue&white' : 'twocolor', 'white&red' : 'twocolor',\n",
    "             'wine' : 'red', 'ivory' : 'white', 'black&yellow' : 'twocolor', 'jasper' : 'green', 'lightkhaki' : 'brown',\n",
    "             'offblack' : 'black', 'violet' : 'purple', 'black&blue' : 'twocolor', 'blackwhite' : 'twocolor', \n",
    "             'rosegold' : 'pink', 'gold' : 'yellow'}\n",
    "\n",
    "df['product_color'] = df['product_color'].str.lower()\n",
    "df['product_color'] = df['product_color'].str.replace(' ', '')\n",
    "\n",
    "df['product_color'] = df['product_color'].replace(color_map)\n",
    "\n",
    "print(\"Unique values: \", df['product_color'].unique())\n",
    "print(\"Value counts:\")\n",
    "print(df['product_color'].value_counts())"
   ]
  },
  {
   "cell_type": "code",
   "execution_count": null,
   "metadata": {
    "id": "2crbtdh7wjDG"
   },
   "outputs": [],
   "source": [
    "def color(col):\n",
    "    ls = ['black', 'white', 'blue', 'red', 'green', 'yellow', 'pink', 'grey', 'purple', 'orange', 'brown', 'beige']\n",
    "    if col not in ls:\n",
    "        if '&' in col:\n",
    "            return 'dual'\n",
    "        else:\n",
    "            return 'others'\n",
    "    return col"
   ]
  },
  {
   "cell_type": "code",
   "execution_count": null,
   "metadata": {
    "id": "3kGWhOzOwjDK"
   },
   "outputs": [],
   "source": [
    "df['product_color'] = df['product_color'].apply(color)"
   ]
  },
  {
   "cell_type": "code",
   "execution_count": null,
   "metadata": {
    "colab": {
     "base_uri": "https://localhost:8080/",
     "height": 609
    },
    "executionInfo": {
     "elapsed": 10773,
     "status": "ok",
     "timestamp": 1601650289446,
     "user": {
      "displayName": "Yatindra",
      "photoUrl": "https://lh3.googleusercontent.com/a-/AOh14GgyhRMwXEEqCncav1ghTui26QU38n9q8A3LHE_ktw=s64",
      "userId": "15503128090634612331"
     },
     "user_tz": -330
    },
    "id": "RS98oWWBwjDM",
    "outputId": "33d545e7-ab2b-4bac-df31-8d7fee0f0891"
   },
   "outputs": [
    {
     "data": {
      "image/png": "[encoded data removed]",
      "text/plain": [
       "<Figure size 864x720 with 1 Axes>"
      ]
     },
     "metadata": {
      "needs_background": "light",
      "tags": []
     },
     "output_type": "display_data"
    }
   ],
   "source": [
    "plt.figure(figsize=(12,10))\n",
    "sns.countplot(x = 'product_color', data = df, order = df['product_color'].value_counts().iloc[:].index)\n",
    "plt.xlabel('Product Colour')\n",
    "plt.ylabel('Count')\n",
    "plt.show()"
   ]
  },
  {
   "cell_type": "markdown",
   "metadata": {
    "id": "IARTkkGxwjDQ"
   },
   "source": [
    "#### product_variation_size_id"
   ]
  },
  {
   "cell_type": "code",
   "execution_count": null,
   "metadata": {
    "colab": {
     "base_uri": "https://localhost:8080/",
     "height": 510
    },
    "executionInfo": {
     "elapsed": 2362,
     "status": "ok",
     "timestamp": 1601650299125,
     "user": {
      "displayName": "Yatindra",
      "photoUrl": "https://lh3.googleusercontent.com/a-/AOh14GgyhRMwXEEqCncav1ghTui26QU38n9q8A3LHE_ktw=s64",
      "userId": "15503128090634612331"
     },
     "user_tz": -330
    },
    "id": "UkwdhYSTwjDR",
    "outputId": "76639848-7dc1-4082-b797-5ade5ac7cebb"
   },
   "outputs": [
    {
     "name": "stdout",
     "output_type": "stream",
     "text": [
      "Unique values:  ['M' 'XS' 'S' 'Size-XS' 'M.' 'XXS' 'L' 'XXL' nan 'S.' 's' 'choose a size'\n",
      " 'XS.' '32/L' 'Suit-S' 'XXXXXL' 'EU 35' '4' 'Size S.' '1m by 3m' '3XL'\n",
      " 'Size S' 'XL' 'Women Size 36' 'US 6.5 (EU 37)' 'XXXS' 'SIZE XS'\n",
      " '26(Waist 72cm 28inch)' 'Size XXS' '29' '1pc' '100 cm' 'One Size'\n",
      " 'SIZE-4XL' '1' 'S/M(child)' '2pcs' 'XXXL' 'S..' '30 cm' '5XL' '33'\n",
      " 'Size M' '100 x 100cm(39.3 x 39.3inch)' '100pcs' '2XL' '4XL' 'SizeL'\n",
      " 'SIZE XXS' 'XXXXL' 'Base & Top & Matte Top Coat' 'size S' '35' '34'\n",
      " 'SIZE-XXS' 'S(bust 88cm)' 'S (waist58-62cm)' 'S(Pink & Black)' '20pcs'\n",
      " 'US-S' 'Size -XXS' 'X   L' 'White' '25' 'Size-S' 'Round' 'Pack of 1'\n",
      " '1 pc.' 'S Diameter 30cm' '6XL' 'AU plug Low quality' '5PAIRS' '25-S'\n",
      " 'Size/S' 'S Pink' 'Size-5XL' 'daughter 24M' '2' 'Baby Float Boat' '10 ml'\n",
      " '60' 'Size-L' 'US5.5-EU35' '10pcs' '17' 'Size-XXS' 'Women Size 37'\n",
      " '3 layered anklet' '4-5 Years' 'Size4XL' 'first  generation'\n",
      " '80 X 200 CM' 'EU39(US8)' 'L.' 'Base Coat' '36' '04-3XL' 'pants-S'\n",
      " 'Floating Chair for Kid' '20PCS-10PAIRS' 'B' 'Size--S' '5' '1 PC - XL'\n",
      " 'H01' '40 cm' 'SIZE S']\n",
      "Value counts:\n",
      "S                               641\n",
      "XS                              356\n",
      "M                               200\n",
      "XXS                             100\n",
      "L                                49\n",
      "                               ... \n",
      "S Diameter 30cm                   1\n",
      "US5.5-EU35                        1\n",
      "Pack of 1                         1\n",
      "100 x 100cm(39.3 x 39.3inch)      1\n",
      "SIZE S                            1\n",
      "Name: product_variation_size_id, Length: 106, dtype: int64\n"
     ]
    }
   ],
   "source": [
    "print(\"Unique values: \", df['product_variation_size_id'].unique())\n",
    "print(\"Value counts:\")\n",
    "print(df['product_variation_size_id'].value_counts())"
   ]
  },
  {
   "cell_type": "code",
   "execution_count": null,
   "metadata": {
    "colab": {
     "base_uri": "https://localhost:8080/",
     "height": 357
    },
    "executionInfo": {
     "elapsed": 2291,
     "status": "ok",
     "timestamp": 1601650302230,
     "user": {
      "displayName": "Yatindra",
      "photoUrl": "https://lh3.googleusercontent.com/a-/AOh14GgyhRMwXEEqCncav1ghTui26QU38n9q8A3LHE_ktw=s64",
      "userId": "15503128090634612331"
     },
     "user_tz": -330
    },
    "id": "96amAeWEwjDT",
    "outputId": "8c114a1c-b4d3-4231-b7ac-c022cace8bbe"
   },
   "outputs": [
    {
     "name": "stdout",
     "output_type": "stream",
     "text": [
      "Unique values:  ['M' 'XS' 'S' 'XXS' 'L' 'XXL' 'unknown' '5XL' '3XL' 'XL' '3XS' 'unit'\n",
      " '4XL' 'White' '1 pc.' '6XL']\n",
      "Value counts:\n",
      "S          691\n",
      "XS         370\n",
      "M          207\n",
      "XXS        107\n",
      "unknown     67\n",
      "L           55\n",
      "XL          19\n",
      "XXL         19\n",
      "4XL         10\n",
      "unit         9\n",
      "3XS          6\n",
      "5XL          5\n",
      "3XL          4\n",
      "1 pc.        2\n",
      "White        1\n",
      "6XL          1\n",
      "Name: product_variation_size_id, dtype: int64\n"
     ]
    }
   ],
   "source": [
    "size_map = {'Size-XS' : 'XS', 'M.' : 'M', np.nan : 'unknown', 'S.' : 'S', 's' : 'S', 'choose a size' : 'unknown',\n",
    "            'XS.' : 'XS', '32/L' : 'L', 'Suit-S' : 'S', 'XXXXXL' : '5XL', 'EU 35' : 'unknown',  '4' : 'XS', 'Size S.' : 'S',\n",
    "            '1m by 3m' : 'unknown', 'Size S' : 'S', 'Women Size 36' : 'unknown', \n",
    "            'US 6.5 (EU 37)' : 'unknown', 'XXXS' : '3XS', 'SIZE XS' : 'XS', '26(Waist 72cm 28inch)' : 'unknown',\n",
    "            'Size XXS' : 'XXS', '29' : 'unknown', '1pc' : 'unit', '100 cm' : 'unknown', 'One Size' : 'unknown',\n",
    "            'SIZE-4XL' : '4XL', '1' : 'unknown', 'S/M(child)' : 'unknown', '2pcs' : 'unit', 'XXXL' : '3XL', \n",
    "            'S..' : 'S', '30 cm' : 'unknown', '33' : 'unknown', 'Size M' : 'M', '100 x 100cm(39.3 x 39.3inch)' : 'unknown',\n",
    "            '100pcs' : 'unit', '2XL' : 'XXL', 'SIZE XXS' : 'XXS', 'Base & Top & Matte Top Coat' : 'unknown', \n",
    "            'size S' : 'S', '35' : 'unknown', '34' : 'unknown', 'SIZE-XXS' : 'XXS', 'S(bust 88cm)' : 'S', \n",
    "            'S (waist58-62cm)' : 'S', 'S(Pink & Black)' : 'S', '20pcs' : 'unit', 'US-S' : 'S', 'Size -XXS' : 'XXS', \n",
    "            'X   L' : 'XL', 'XXXXL' : '4XL', '25' : 'unknown', 'SizeL' : 'L', 'Size-S' : 'S', 'Round' : 'unknown', \n",
    "            'Pack of 1' : 'unit', 'S Diameter 30cm' : 'unknown', 'AU plug Low quality' : 'unknown', '5PAIRS' : 'unit', \n",
    "            '25-S' : 'S', 'Size/S' : 'S', 'S Pink' : 'S', 'Size-5XL' : '5XL', 'daughter 24M' : 'M', '2' : 'unknown',\n",
    "            'Baby Float Boat' : 'unknown', '10 ml' : 'unknown', '60' : 'unknown', 'Size-L' : 'L', 'US5.5-EU35' : 'unknown',\n",
    "            '10pcs' : 'unit', '17' : 'unknown', 'Size-XXS' : 'XXS', 'Women Size 37' : 'unknown', \n",
    "            '3 layered anklet' : 'unknown', '4-5 Years' : 'unknown', 'Size4XL' : '4XL', 'first  generation' : 'unknown',\n",
    "            '80 X 200 CM' : 'unknown', 'EU39(US8)' : 'unknown', 'L.' : 'L', 'Base Coat' : 'unknown', '36' : 'unknown',\n",
    "            '04-3XL' : '3XL', 'pants-S' : 'S', 'Floating Chair for Kid' : 'unknown', '20PCS-10PAIRS' : 'unknown', \n",
    "            'B' : 'unknown', 'Size--S' : 'S', '5' : 'unknown', '1 PC - XL' : 'XL', 'H01' : 'unknown', '40 cm' : 'unknown',\n",
    "            'SIZE S' : 'S'}\n",
    "\n",
    "df['product_variation_size_id'] = df['product_variation_size_id'].replace(size_map)\n",
    "\n",
    "print(\"Unique values: \", df['product_variation_size_id'].unique())\n",
    "print(\"Value counts:\")\n",
    "print(df['product_variation_size_id'].value_counts())"
   ]
  },
  {
   "cell_type": "code",
   "execution_count": null,
   "metadata": {
    "id": "_Rm16DUiwjDV"
   },
   "outputs": [],
   "source": [
    "def size_name(size):\n",
    "    ls = [\"XXXS\", \"XXS\", \"XS\", \"S\", \"M\", \"L\", \"XL\", \"XXL\", \"XXXL\", \"XXXXL\", \"XXXXXL\"]\n",
    "    if size in ls:\n",
    "        return size\n",
    "    return \"Others\""
   ]
  },
  {
   "cell_type": "code",
   "execution_count": null,
   "metadata": {
    "colab": {
     "base_uri": "https://localhost:8080/",
     "height": 609
    },
    "executionInfo": {
     "elapsed": 1957,
     "status": "ok",
     "timestamp": 1601650340321,
     "user": {
      "displayName": "Yatindra",
      "photoUrl": "https://lh3.googleusercontent.com/a-/AOh14GgyhRMwXEEqCncav1ghTui26QU38n9q8A3LHE_ktw=s64",
      "userId": "15503128090634612331"
     },
     "user_tz": -330
    },
    "id": "aUd5nKIwwjDZ",
    "outputId": "13d8779a-3e50-4cc7-e85b-7bdcd1df251c"
   },
   "outputs": [
    {
     "data": {
      "image/png": "[encoded data removed]",
      "text/plain": [
       "<Figure size 864x720 with 1 Axes>"
      ]
     },
     "metadata": {
      "needs_background": "light",
      "tags": []
     },
     "output_type": "display_data"
    }
   ],
   "source": [
    "df['product_variation_size_id'].replace(np.nan, 'Others', inplace=True)\n",
    "df['product_variation_size_id'] = df['product_variation_size_id'].apply(size_name)\n",
    "\n",
    "plt.figure(figsize=(12,10))\n",
    "sns.countplot(x = 'product_variation_size_id', data = df, order = df['product_variation_size_id'].value_counts().iloc[:].index)\n",
    "plt.xlabel('Product Variation Size ID')\n",
    "plt.ylabel('Count')\n",
    "plt.show()"
   ]
  },
  {
   "cell_type": "code",
   "execution_count": null,
   "metadata": {
    "colab": {
     "base_uri": "https://localhost:8080/",
     "height": 136
    },
    "executionInfo": {
     "elapsed": 1658,
     "status": "ok",
     "timestamp": 1601650343814,
     "user": {
      "displayName": "Yatindra",
      "photoUrl": "https://lh3.googleusercontent.com/a-/AOh14GgyhRMwXEEqCncav1ghTui26QU38n9q8A3LHE_ktw=s64",
      "userId": "15503128090634612331"
     },
     "user_tz": -330
    },
    "id": "8HuLLhSKwjDb",
    "outputId": "7dbad976-6396-4990-dc55-04c30218ad46"
   },
   "outputs": [
    {
     "data": {
      "text/plain": [
       "CN    1516\n",
       "US      31\n",
       "VE       5\n",
       "SG       2\n",
       "AT       1\n",
       "GB       1\n",
       "Name: origin_country, dtype: int64"
      ]
     },
     "execution_count": 36,
     "metadata": {
      "tags": []
     },
     "output_type": "execute_result"
    }
   ],
   "source": [
    "df['origin_country'].value_counts()"
   ]
  },
  {
   "cell_type": "code",
   "execution_count": null,
   "metadata": {
    "id": "y5k_C8AqwjDf"
   },
   "outputs": [],
   "source": [
    "def origin_name(country):\n",
    "    ls = [\"VE\", \"SG\", \"GB\", \"AT\"]\n",
    "    if country in ls:\n",
    "        return \"Others\"\n",
    "    return country"
   ]
  },
  {
   "cell_type": "code",
   "execution_count": null,
   "metadata": {
    "id": "fbDR01EbwjDh"
   },
   "outputs": [],
   "source": [
    "df['origin_country'].replace(np.nan, \"Others\", inplace=True)\n",
    "df['origin_country'] = df['origin_country'].apply(origin_name)"
   ]
  },
  {
   "cell_type": "code",
   "execution_count": null,
   "metadata": {
    "colab": {
     "base_uri": "https://localhost:8080/",
     "height": 609
    },
    "executionInfo": {
     "elapsed": 1795,
     "status": "ok",
     "timestamp": 1601650363965,
     "user": {
      "displayName": "Yatindra",
      "photoUrl": "https://lh3.googleusercontent.com/a-/AOh14GgyhRMwXEEqCncav1ghTui26QU38n9q8A3LHE_ktw=s64",
      "userId": "15503128090634612331"
     },
     "user_tz": -330
    },
    "id": "JYFyNkmLwjDm",
    "outputId": "59c98f4e-2fe9-4601-9751-e7b1c1e53a89"
   },
   "outputs": [
    {
     "data": {
      "image/png": "[encoded data removed]",
      "text/plain": [
       "<Figure size 864x720 with 1 Axes>"
      ]
     },
     "metadata": {
      "needs_background": "light",
      "tags": []
     },
     "output_type": "display_data"
    }
   ],
   "source": [
    "plt.figure(figsize=(12,10))\n",
    "sns.countplot(x = 'origin_country', data = df, order = df['origin_country'].value_counts().iloc[:].index)\n",
    "plt.xlabel('Origin Country')\n",
    "plt.ylabel('Count')\n",
    "plt.show()"
   ]
  },
  {
   "cell_type": "code",
   "execution_count": null,
   "metadata": {
    "colab": {
     "base_uri": "https://localhost:8080/",
     "height": 85
    },
    "executionInfo": {
     "elapsed": 1868,
     "status": "ok",
     "timestamp": 1601650369126,
     "user": {
      "displayName": "Yatindra",
      "photoUrl": "https://lh3.googleusercontent.com/a-/AOh14GgyhRMwXEEqCncav1ghTui26QU38n9q8A3LHE_ktw=s64",
      "userId": "15503128090634612331"
     },
     "user_tz": -330
    },
    "id": "7XC3hHGrwjDp",
    "outputId": "2992dd7e-9411-4d75-b41e-54014e228afe"
   },
   "outputs": [
    {
     "data": {
      "text/plain": [
       "CN        0.963764\n",
       "US        0.019708\n",
       "Others    0.016529\n",
       "Name: origin_country, dtype: float64"
      ]
     },
     "execution_count": 40,
     "metadata": {
      "tags": []
     },
     "output_type": "execute_result"
    }
   ],
   "source": [
    "df.origin_country.value_counts(normalize=True)"
   ]
  },
  {
   "cell_type": "code",
   "execution_count": null,
   "metadata": {
    "id": "gTyxWDt0wjDt"
   },
   "outputs": [],
   "source": [
    "# Over 96% of the products originate from China. With this overwelming majority, this parameter can be purged."
   ]
  },
  {
   "cell_type": "code",
   "execution_count": null,
   "metadata": {
    "id": "xmZTmOqywjDy"
   },
   "outputs": [],
   "source": [
    "df = df.drop(columns=['origin_country'])"
   ]
  },
  {
   "cell_type": "code",
   "execution_count": null,
   "metadata": {
    "colab": {
     "base_uri": "https://localhost:8080/",
     "height": 391
    },
    "executionInfo": {
     "elapsed": 1348,
     "status": "ok",
     "timestamp": 1601650375866,
     "user": {
      "displayName": "Yatindra",
      "photoUrl": "https://lh3.googleusercontent.com/a-/AOh14GgyhRMwXEEqCncav1ghTui26QU38n9q8A3LHE_ktw=s64",
      "userId": "15503128090634612331"
     },
     "user_tz": -330
    },
    "id": "O8aoRNMHwjD0",
    "outputId": "112178a7-4f4b-4c4e-d91d-22549e46d1bd"
   },
   "outputs": [
    {
     "data": {
      "image/png": "[encoded data removed]",
      "text/plain": [
       "<Figure size 576x432 with 1 Axes>"
      ]
     },
     "metadata": {
      "needs_background": "light",
      "tags": []
     },
     "output_type": "display_data"
    }
   ],
   "source": [
    "def plot_missing_data(df):\n",
    "    columns_with_null = df.columns[df.isna().sum() > 0]\n",
    "    null_pct = (df[columns_with_null].isna().sum() / df.shape[0]).sort_values(ascending=False) * 100\n",
    "    plt.figure(figsize=(8,6));\n",
    "    sns.barplot(y = null_pct.index, x = null_pct, orient='h')\n",
    "    plt.title('% Na values in dataframe by columns');\n",
    "    \n",
    "plot_missing_data(df)"
   ]
  },
  {
   "cell_type": "code",
   "execution_count": null,
   "metadata": {
    "colab": {
     "base_uri": "https://localhost:8080/",
     "height": 731
    },
    "executionInfo": {
     "elapsed": 1765,
     "status": "ok",
     "timestamp": 1601650383878,
     "user": {
      "displayName": "Yatindra",
      "photoUrl": "https://lh3.googleusercontent.com/a-/AOh14GgyhRMwXEEqCncav1ghTui26QU38n9q8A3LHE_ktw=s64",
      "userId": "15503128090634612331"
     },
     "user_tz": -330
    },
    "id": "9FBTIxDDwjD5",
    "outputId": "5ef446d5-4189-4e2d-c266-672456254f25"
   },
   "outputs": [
    {
     "data": {
      "text/plain": [
       "title_in_french                 0\n",
       "title_translated                0\n",
       "listed_price                    0\n",
       "retail_price                    0\n",
       "currency_buyer                  0\n",
       "units_sold                      0\n",
       "uses_ad_boosts                  0\n",
       "rating                          0\n",
       "rating_count                    0\n",
       "rating_five_count               0\n",
       "rating_four_count               0\n",
       "rating_three_count              0\n",
       "rating_two_count                0\n",
       "rating_one_count                0\n",
       "badges_count                    0\n",
       "badge_local_product             0\n",
       "badge_product_quality           0\n",
       "badge_fast_shipping             0\n",
       "tags                            0\n",
       "product_color                   0\n",
       "product_variation_size_id       0\n",
       "product_variation_inventory     0\n",
       "shipping_option_name            0\n",
       "shipping_option_price           0\n",
       "shipping_is_express             0\n",
       "countries_shipped_to            0\n",
       "inventory_total                 0\n",
       "has_urgency_banner              0\n",
       "urgency_text                    0\n",
       "merchant_title                  0\n",
       "merchant_name                   4\n",
       "merchant_info_subtitle          1\n",
       "merchant_rating_count           0\n",
       "merchant_rating                 0\n",
       "merchant_id                     0\n",
       "merchant_has_profile_picture    0\n",
       "product_url                     0\n",
       "product_picture                 0\n",
       "product_id                      0\n",
       "theme                           0\n",
       "crawl_month                     0\n",
       "dtype: int64"
      ]
     },
     "execution_count": 44,
     "metadata": {
      "tags": []
     },
     "output_type": "execute_result"
    }
   ],
   "source": [
    "df.isnull().sum()"
   ]
  },
  {
   "cell_type": "markdown",
   "metadata": {
    "id": "cduEqHchwjD8"
   },
   "source": [
    "#### Drop Excess Information\n",
    "\n",
    "Let's determine information that isn't informative."
   ]
  },
  {
   "cell_type": "code",
   "execution_count": null,
   "metadata": {
    "colab": {
     "base_uri": "https://localhost:8080/",
     "height": 289
    },
    "executionInfo": {
     "elapsed": 1436,
     "status": "ok",
     "timestamp": 1601650391963,
     "user": {
      "displayName": "Yatindra",
      "photoUrl": "https://lh3.googleusercontent.com/a-/AOh14GgyhRMwXEEqCncav1ghTui26QU38n9q8A3LHE_ktw=s64",
      "userId": "15503128090634612331"
     },
     "user_tz": -330
    },
    "id": "T401WcPnwjD9",
    "outputId": "054b0504-97da-4a63-f36b-5ec1ebc46a05"
   },
   "outputs": [
    {
     "data": {
      "text/plain": [
       "Livraison standard         0.958678\n",
       "Standard Shipping          0.013350\n",
       "Envio Padrão               0.005722\n",
       "Expediere Standard         0.003814\n",
       "Envío normal               0.003179\n",
       "الشحن القياسي              0.002543\n",
       "Standardversand            0.001907\n",
       "Стандартная доставка       0.001907\n",
       "Standardowa wysyłka        0.001907\n",
       "Livraison Express          0.001907\n",
       "Standart Gönderi           0.001271\n",
       "การส่งสินค้ามาตรฐาน        0.001271\n",
       "Spedizione standard        0.001271\n",
       "ការដឹកជញ្ជូនតាមស្តង់ដារ    0.000636\n",
       "Ekspresowa wysyłka         0.000636\n",
       "Name: shipping_option_name, dtype: float64"
      ]
     },
     "execution_count": 45,
     "metadata": {
      "tags": []
     },
     "output_type": "execute_result"
    }
   ],
   "source": [
    "# Over 95% of the products are shipped using 'Livraison standard' shipping.\n",
    "# With this overwelming majority, this parameter can be purged.\n",
    "\n",
    "df.shipping_option_name.value_counts(normalize=True)"
   ]
  },
  {
   "cell_type": "code",
   "execution_count": null,
   "metadata": {
    "id": "c4T3AJJVwjEB"
   },
   "outputs": [],
   "source": [
    "df = df.drop(columns=['shipping_option_name'])"
   ]
  },
  {
   "cell_type": "code",
   "execution_count": null,
   "metadata": {
    "colab": {
     "base_uri": "https://localhost:8080/",
     "height": 204
    },
    "executionInfo": {
     "elapsed": 1608,
     "status": "ok",
     "timestamp": 1601650393725,
     "user": {
      "displayName": "Yatindra",
      "photoUrl": "https://lh3.googleusercontent.com/a-/AOh14GgyhRMwXEEqCncav1ghTui26QU38n9q8A3LHE_ktw=s64",
      "userId": "15503128090634612331"
     },
     "user_tz": -330
    },
    "id": "tYIafiIIwjED",
    "outputId": "e36a209e-6b5e-4c7d-e586-38c2a39ada7f"
   },
   "outputs": [
    {
     "data": {
      "text/plain": [
       "50    0.993643\n",
       "2     0.001271\n",
       "40    0.000636\n",
       "38    0.000636\n",
       "37    0.000636\n",
       "36    0.000636\n",
       "30    0.000636\n",
       "24    0.000636\n",
       "9     0.000636\n",
       "1     0.000636\n",
       "Name: inventory_total, dtype: float64"
      ]
     },
     "execution_count": 47,
     "metadata": {
      "tags": []
     },
     "output_type": "execute_result"
    }
   ],
   "source": [
    "# Over 99% of the products possess an inventory of fifty (or greater)! With this overwelming majority, this parameter can be purged.\n",
    "\n",
    "df.inventory_total.value_counts(normalize=True)"
   ]
  },
  {
   "cell_type": "code",
   "execution_count": null,
   "metadata": {
    "id": "-4Xu6za8wjEH"
   },
   "outputs": [],
   "source": [
    "df = df.drop(columns=['inventory_total'])"
   ]
  },
  {
   "cell_type": "code",
   "execution_count": null,
   "metadata": {
    "id": "mqwCt0DtwjEL"
   },
   "outputs": [],
   "source": [
    "# Over 89% of the products have zero badges and a bit over 9% have one badge. With this overwelming majority, this parameter can be purged."
   ]
  },
  {
   "cell_type": "code",
   "execution_count": null,
   "metadata": {
    "colab": {
     "base_uri": "https://localhost:8080/",
     "height": 102
    },
    "executionInfo": {
     "elapsed": 1113,
     "status": "ok",
     "timestamp": 1601650395244,
     "user": {
      "displayName": "Yatindra",
      "photoUrl": "https://lh3.googleusercontent.com/a-/AOh14GgyhRMwXEEqCncav1ghTui26QU38n9q8A3LHE_ktw=s64",
      "userId": "15503128090634612331"
     },
     "user_tz": -330
    },
    "id": "MHVckS7NwjEN",
    "outputId": "0c6c7bd8-9bfa-474a-e01f-5ac3178d47b8"
   },
   "outputs": [
    {
     "data": {
      "text/plain": [
       "0    0.904005\n",
       "1    0.087730\n",
       "2    0.006993\n",
       "3    0.001271\n",
       "Name: badges_count, dtype: float64"
      ]
     },
     "execution_count": 50,
     "metadata": {
      "tags": []
     },
     "output_type": "execute_result"
    }
   ],
   "source": [
    "df.badges_count.value_counts(normalize=True)"
   ]
  },
  {
   "cell_type": "code",
   "execution_count": null,
   "metadata": {
    "id": "ASVNJ-y7wjER"
   },
   "outputs": [],
   "source": [
    "df = df.drop(columns=['badges_count'])"
   ]
  },
  {
   "cell_type": "code",
   "execution_count": null,
   "metadata": {
    "colab": {
     "base_uri": "https://localhost:8080/",
     "height": 68
    },
    "executionInfo": {
     "elapsed": 1483,
     "status": "ok",
     "timestamp": 1601650397355,
     "user": {
      "displayName": "Yatindra",
      "photoUrl": "https://lh3.googleusercontent.com/a-/AOh14GgyhRMwXEEqCncav1ghTui26QU38n9q8A3LHE_ktw=s64",
      "userId": "15503128090634612331"
     },
     "user_tz": -330
    },
    "id": "J2-aKyudwjET",
    "outputId": "134b6040-08a2-4097-b325-5decc54d8e28"
   },
   "outputs": [
    {
     "data": {
      "text/plain": [
       "0    0.981564\n",
       "1    0.018436\n",
       "Name: badge_local_product, dtype: float64"
      ]
     },
     "execution_count": 52,
     "metadata": {
      "tags": []
     },
     "output_type": "execute_result"
    }
   ],
   "source": [
    "# Over 97% of the products don't possess the local product badge. With this overwelming majority, this parameter can be purged.\n",
    "\n",
    "df.badge_local_product.value_counts(normalize=True)"
   ]
  },
  {
   "cell_type": "code",
   "execution_count": null,
   "metadata": {
    "id": "UOQmkiO2wjEX"
   },
   "outputs": [],
   "source": [
    "df = df.drop(columns=['badge_local_product'])"
   ]
  },
  {
   "cell_type": "code",
   "execution_count": null,
   "metadata": {
    "id": "G60VGpLwwjEa"
   },
   "outputs": [],
   "source": [
    "# Over 98% of the products don't possess the fast-shipping badge. With this overwelming majority, this parameter can be purged."
   ]
  },
  {
   "cell_type": "code",
   "execution_count": null,
   "metadata": {
    "colab": {
     "base_uri": "https://localhost:8080/",
     "height": 68
    },
    "executionInfo": {
     "elapsed": 2494,
     "status": "ok",
     "timestamp": 1601650400716,
     "user": {
      "displayName": "Yatindra",
      "photoUrl": "https://lh3.googleusercontent.com/a-/AOh14GgyhRMwXEEqCncav1ghTui26QU38n9q8A3LHE_ktw=s64",
      "userId": "15503128090634612331"
     },
     "user_tz": -330
    },
    "id": "KyAxE__-wjEd",
    "outputId": "440fbd54-df31-41a4-b967-718f4cfd4897"
   },
   "outputs": [
    {
     "data": {
      "text/plain": [
       "0    0.987285\n",
       "1    0.012715\n",
       "Name: badge_fast_shipping, dtype: float64"
      ]
     },
     "execution_count": 55,
     "metadata": {
      "tags": []
     },
     "output_type": "execute_result"
    }
   ],
   "source": [
    "df.badge_fast_shipping.value_counts(normalize=True)"
   ]
  },
  {
   "cell_type": "code",
   "execution_count": null,
   "metadata": {
    "id": "baZTHpaOwjEg"
   },
   "outputs": [],
   "source": [
    "df = df.drop(columns=['badge_fast_shipping'])"
   ]
  },
  {
   "cell_type": "code",
   "execution_count": null,
   "metadata": {
    "id": "KAFoeUPVwjEl"
   },
   "outputs": [],
   "source": [
    "# Over 99% of the products don't possess express shipping. With this overwelming majority, this parameter can be purged.\n",
    "\n"
   ]
  },
  {
   "cell_type": "code",
   "execution_count": null,
   "metadata": {
    "colab": {
     "base_uri": "https://localhost:8080/",
     "height": 68
    },
    "executionInfo": {
     "elapsed": 1108,
     "status": "ok",
     "timestamp": 1601650401546,
     "user": {
      "displayName": "Yatindra",
      "photoUrl": "https://lh3.googleusercontent.com/a-/AOh14GgyhRMwXEEqCncav1ghTui26QU38n9q8A3LHE_ktw=s64",
      "userId": "15503128090634612331"
     },
     "user_tz": -330
    },
    "id": "vc67ktBFwjEn",
    "outputId": "7a98daa1-eed3-4b5b-e795-a01b0c674425"
   },
   "outputs": [
    {
     "data": {
      "text/plain": [
       "0    0.997457\n",
       "1    0.002543\n",
       "Name: shipping_is_express, dtype: float64"
      ]
     },
     "execution_count": 58,
     "metadata": {
      "tags": []
     },
     "output_type": "execute_result"
    }
   ],
   "source": [
    "df.shipping_is_express.value_counts(normalize=True)"
   ]
  },
  {
   "cell_type": "code",
   "execution_count": null,
   "metadata": {
    "id": "wnLp5Ch4zknF"
   },
   "outputs": [],
   "source": [
    "df = df.drop(columns=['shipping_is_express'])"
   ]
  },
  {
   "cell_type": "markdown",
   "metadata": {
    "id": "_S32MO5BwjEt"
   },
   "source": [
    "There are a few other parameters I'd like to purge:\n",
    "\n",
    "* `title_in_french` - Provides product title in French.\n",
    "* `currency_buyer` - There is only one currency: `EUR`.\n",
    "* `merchant_title` - `merchant_id` will be used as merchant identifier.\n",
    "* `merchant_name` - `merchant_id` will be used as merchant identifier.\n",
    "* `merchant_info_subtitle` - Provides merchant rating as convoluted String.\n",
    "* `merchant_has_profile_picture` - Not sure how to utilize.\n",
    "* `merchant_profile_picture` - Not sure how to utilize.\n",
    "* `product_url` - Doesn't seem necessary.\n",
    "* `theme` - There is only one unique value: `summer`.\n",
    "* `crawl_month` - There is only one unique value: `2020-08`."
   ]
  },
  {
   "cell_type": "code",
   "execution_count": null,
   "metadata": {
    "id": "aGElStOXwjEt"
   },
   "outputs": [],
   "source": [
    "df = df.drop(columns = ['title_in_french', 'currency_buyer', 'merchant_title', 'merchant_name', \n",
    "                        'merchant_info_subtitle', 'merchant_has_profile_picture', \n",
    "                         'product_url', 'theme', \n",
    "                        'crawl_month'])"
   ]
  },
  {
   "cell_type": "code",
   "execution_count": null,
   "metadata": {
    "colab": {
     "base_uri": "https://localhost:8080/",
     "height": 578
    },
    "executionInfo": {
     "elapsed": 1152,
     "status": "ok",
     "timestamp": 1601650455891,
     "user": {
      "displayName": "Yatindra",
      "photoUrl": "https://lh3.googleusercontent.com/a-/AOh14GgyhRMwXEEqCncav1ghTui26QU38n9q8A3LHE_ktw=s64",
      "userId": "15503128090634612331"
     },
     "user_tz": -330
    },
    "id": "yBxnQRsTwjEx",
    "outputId": "9d3abcb9-e484-4045-b5d8-e92fd9f87250"
   },
   "outputs": [
    {
     "name": "stdout",
     "output_type": "stream",
     "text": [
      "<class 'pandas.core.frame.DataFrame'>\n",
      "RangeIndex: 1573 entries, 0 to 1572\n",
      "Data columns (total 26 columns):\n",
      " #   Column                       Non-Null Count  Dtype  \n",
      "---  ------                       --------------  -----  \n",
      " 0   title_translated             1573 non-null   object \n",
      " 1   listed_price                 1573 non-null   float64\n",
      " 2   retail_price                 1573 non-null   int64  \n",
      " 3   units_sold                   1573 non-null   int64  \n",
      " 4   uses_ad_boosts               1573 non-null   int64  \n",
      " 5   rating                       1573 non-null   float64\n",
      " 6   rating_count                 1573 non-null   int64  \n",
      " 7   rating_five_count            1573 non-null   float64\n",
      " 8   rating_four_count            1573 non-null   float64\n",
      " 9   rating_three_count           1573 non-null   float64\n",
      " 10  rating_two_count             1573 non-null   float64\n",
      " 11  rating_one_count             1573 non-null   float64\n",
      " 12  badge_product_quality        1573 non-null   int64  \n",
      " 13  tags                         1573 non-null   object \n",
      " 14  product_color                1573 non-null   object \n",
      " 15  product_variation_size_id    1573 non-null   object \n",
      " 16  product_variation_inventory  1573 non-null   int64  \n",
      " 17  shipping_option_price        1573 non-null   int64  \n",
      " 18  countries_shipped_to         1573 non-null   int64  \n",
      " 19  has_urgency_banner           1573 non-null   float64\n",
      " 20  urgency_text                 1573 non-null   object \n",
      " 21  merchant_rating_count        1573 non-null   int64  \n",
      " 22  merchant_rating              1573 non-null   float64\n",
      " 23  merchant_id                  1573 non-null   object \n",
      " 24  product_picture              1573 non-null   object \n",
      " 25  product_id                   1573 non-null   object \n",
      "dtypes: float64(9), int64(9), object(8)\n",
      "memory usage: 319.6+ KB\n"
     ]
    }
   ],
   "source": [
    "df.info()"
   ]
  },
  {
   "cell_type": "code",
   "execution_count": null,
   "metadata": {
    "id": "pQ3b2blSwjEz"
   },
   "outputs": [],
   "source": [
    "df['has_urgency_banner'] = df['has_urgency_banner'].astype(int)"
   ]
  },
  {
   "cell_type": "code",
   "execution_count": null,
   "metadata": {
    "colab": {
     "base_uri": "https://localhost:8080/",
     "height": 264
    },
    "executionInfo": {
     "elapsed": 1229,
     "status": "ok",
     "timestamp": 1601650463606,
     "user": {
      "displayName": "Yatindra",
      "photoUrl": "https://lh3.googleusercontent.com/a-/AOh14GgyhRMwXEEqCncav1ghTui26QU38n9q8A3LHE_ktw=s64",
      "userId": "15503128090634612331"
     },
     "user_tz": -330
    },
    "id": "XgSXulpHwjE1",
    "outputId": "66b9220a-19d8-4143-e35b-f760f1cd42c2"
   },
   "outputs": [
    {
     "data": {
      "text/html": [
       "<div>\n",
       "<style scoped>\n",
       "    .dataframe tbody tr th:only-of-type {\n",
       "        vertical-align: middle;\n",
       "    }\n",
       "\n",
       "    .dataframe tbody tr th {\n",
       "        vertical-align: top;\n",
       "    }\n",
       "\n",
       "    .dataframe thead th {\n",
       "        text-align: right;\n",
       "    }\n",
       "</style>\n",
       "<table border=\"1\" class=\"dataframe\">\n",
       "  <thead>\n",
       "    <tr style=\"text-align: right;\">\n",
       "      <th></th>\n",
       "      <th>title_translated</th>\n",
       "      <th>listed_price</th>\n",
       "      <th>retail_price</th>\n",
       "      <th>units_sold</th>\n",
       "      <th>uses_ad_boosts</th>\n",
       "      <th>rating</th>\n",
       "      <th>rating_count</th>\n",
       "      <th>rating_five_count</th>\n",
       "      <th>rating_four_count</th>\n",
       "      <th>rating_three_count</th>\n",
       "      <th>rating_two_count</th>\n",
       "      <th>rating_one_count</th>\n",
       "      <th>badge_product_quality</th>\n",
       "      <th>tags</th>\n",
       "      <th>product_color</th>\n",
       "      <th>product_variation_size_id</th>\n",
       "      <th>product_variation_inventory</th>\n",
       "      <th>shipping_option_price</th>\n",
       "      <th>countries_shipped_to</th>\n",
       "      <th>has_urgency_banner</th>\n",
       "      <th>urgency_text</th>\n",
       "      <th>merchant_rating_count</th>\n",
       "      <th>merchant_rating</th>\n",
       "      <th>merchant_id</th>\n",
       "      <th>product_picture</th>\n",
       "      <th>product_id</th>\n",
       "    </tr>\n",
       "  </thead>\n",
       "  <tbody>\n",
       "    <tr>\n",
       "      <th>0</th>\n",
       "      <td>2020 Summer Vintage Flamingo Print  Pajamas Se...</td>\n",
       "      <td>16.0</td>\n",
       "      <td>14</td>\n",
       "      <td>100</td>\n",
       "      <td>0</td>\n",
       "      <td>3.76</td>\n",
       "      <td>54</td>\n",
       "      <td>26.0</td>\n",
       "      <td>8.0</td>\n",
       "      <td>10.0</td>\n",
       "      <td>1.0</td>\n",
       "      <td>9.0</td>\n",
       "      <td>0</td>\n",
       "      <td>Summer,Fashion,womenunderwearsuit,printedpajam...</td>\n",
       "      <td>white</td>\n",
       "      <td>M</td>\n",
       "      <td>50</td>\n",
       "      <td>4</td>\n",
       "      <td>34</td>\n",
       "      <td>1</td>\n",
       "      <td>QuantityLimited</td>\n",
       "      <td>568</td>\n",
       "      <td>4.128521</td>\n",
       "      <td>595097d6a26f6e070cb878d1</td>\n",
       "      <td>https://contestimg.wish.com/api/webimage/5e9ae...</td>\n",
       "      <td>5e9ae51d43d6a96e303acdb0</td>\n",
       "    </tr>\n",
       "    <tr>\n",
       "      <th>1</th>\n",
       "      <td>Women's Casual Summer Sleeveless Sexy Mini Dress</td>\n",
       "      <td>8.0</td>\n",
       "      <td>22</td>\n",
       "      <td>20000</td>\n",
       "      <td>1</td>\n",
       "      <td>3.45</td>\n",
       "      <td>6135</td>\n",
       "      <td>2269.0</td>\n",
       "      <td>1027.0</td>\n",
       "      <td>1118.0</td>\n",
       "      <td>644.0</td>\n",
       "      <td>1077.0</td>\n",
       "      <td>0</td>\n",
       "      <td>Mini,womens dresses,Summer,Patchwork,fashion d...</td>\n",
       "      <td>green</td>\n",
       "      <td>XS</td>\n",
       "      <td>50</td>\n",
       "      <td>2</td>\n",
       "      <td>41</td>\n",
       "      <td>1</td>\n",
       "      <td>QuantityLimited</td>\n",
       "      <td>17752</td>\n",
       "      <td>3.899673</td>\n",
       "      <td>56458aa03a698c35c9050988</td>\n",
       "      <td>https://contestimg.wish.com/api/webimage/58940...</td>\n",
       "      <td>58940d436a0d3d5da4e95a38</td>\n",
       "    </tr>\n",
       "    <tr>\n",
       "      <th>2</th>\n",
       "      <td>2020 New Arrival Women Spring and Summer Beach...</td>\n",
       "      <td>8.0</td>\n",
       "      <td>43</td>\n",
       "      <td>100</td>\n",
       "      <td>0</td>\n",
       "      <td>3.57</td>\n",
       "      <td>14</td>\n",
       "      <td>5.0</td>\n",
       "      <td>4.0</td>\n",
       "      <td>2.0</td>\n",
       "      <td>0.0</td>\n",
       "      <td>3.0</td>\n",
       "      <td>0</td>\n",
       "      <td>Summer,cardigan,women beachwear,chiffon,Sexy w...</td>\n",
       "      <td>others</td>\n",
       "      <td>XS</td>\n",
       "      <td>1</td>\n",
       "      <td>3</td>\n",
       "      <td>36</td>\n",
       "      <td>1</td>\n",
       "      <td>QuantityLimited</td>\n",
       "      <td>295</td>\n",
       "      <td>3.989831</td>\n",
       "      <td>5d464a1ffdf7bc44ee933c65</td>\n",
       "      <td>https://contestimg.wish.com/api/webimage/5ea10...</td>\n",
       "      <td>5ea10e2c617580260d55310a</td>\n",
       "    </tr>\n",
       "  </tbody>\n",
       "</table>\n",
       "</div>"
      ],
      "text/plain": [
       "                                    title_translated  ...                product_id\n",
       "0  2020 Summer Vintage Flamingo Print  Pajamas Se...  ...  5e9ae51d43d6a96e303acdb0\n",
       "1   Women's Casual Summer Sleeveless Sexy Mini Dress  ...  58940d436a0d3d5da4e95a38\n",
       "2  2020 New Arrival Women Spring and Summer Beach...  ...  5ea10e2c617580260d55310a\n",
       "\n",
       "[3 rows x 26 columns]"
      ]
     },
     "execution_count": 64,
     "metadata": {
      "tags": []
     },
     "output_type": "execute_result"
    }
   ],
   "source": [
    "df.head(3)"
   ]
  },
  {
   "cell_type": "markdown",
   "metadata": {
    "id": "y6cJ1VpSwjE5"
   },
   "source": [
    "#### Tags\n",
    "\n",
    "There are over 2600 unique tags, so it won't be possible to correct them, even manually.\n",
    "Instead, what we'll do is `split()` the String and then apply `lower()` to each tag for consistency.\n",
    "\n",
    "Now the tags are standardized, somewhat..."
   ]
  },
  {
   "cell_type": "code",
   "execution_count": null,
   "metadata": {
    "colab": {
     "base_uri": "https://localhost:8080/",
     "height": 119
    },
    "executionInfo": {
     "elapsed": 1813,
     "status": "ok",
     "timestamp": 1601650472260,
     "user": {
      "displayName": "Yatindra",
      "photoUrl": "https://lh3.googleusercontent.com/a-/AOh14GgyhRMwXEEqCncav1ghTui26QU38n9q8A3LHE_ktw=s64",
      "userId": "15503128090634612331"
     },
     "user_tz": -330
    },
    "id": "VGwCLVvAwjE6",
    "outputId": "84f5233b-d87c-4c12-e4c3-33e5c83b39ac"
   },
   "outputs": [
    {
     "name": "stdout",
     "output_type": "stream",
     "text": [
      "0    Summer,Fashion,womenunderwearsuit,printedpajam...\n",
      "1    Mini,womens dresses,Summer,Patchwork,fashion d...\n",
      "2    Summer,cardigan,women beachwear,chiffon,Sexy w...\n",
      "3    Summer,Shorts,Cotton,Cotton T Shirt,Sleeve,pri...\n",
      "4    Summer,Plus Size,Lace,Casual pants,Bottom,pant...\n",
      "Name: tags, dtype: object\n"
     ]
    }
   ],
   "source": [
    "print(df['tags'].head(5))"
   ]
  },
  {
   "cell_type": "code",
   "execution_count": null,
   "metadata": {
    "colab": {
     "base_uri": "https://localhost:8080/",
     "height": 119
    },
    "executionInfo": {
     "elapsed": 1630,
     "status": "ok",
     "timestamp": 1601650472937,
     "user": {
      "displayName": "Yatindra",
      "photoUrl": "https://lh3.googleusercontent.com/a-/AOh14GgyhRMwXEEqCncav1ghTui26QU38n9q8A3LHE_ktw=s64",
      "userId": "15503128090634612331"
     },
     "user_tz": -330
    },
    "id": "CnpDg2X1wjFA",
    "outputId": "81204f8c-2a75-49e9-8631-f2abfd24bcdd"
   },
   "outputs": [
    {
     "name": "stdout",
     "output_type": "stream",
     "text": [
      "0    (summer, fashion, womenunderwearsuit, printedp...\n",
      "1    (mini, womens dresses, summer, patchwork, fash...\n",
      "2    (summer, cardigan, women beachwear, chiffon, s...\n",
      "3    (summer, shorts, cotton, cotton t shirt, sleev...\n",
      "4    (summer, plus size, lace, casual pants, bottom...\n",
      "Name: tags, dtype: object\n"
     ]
    }
   ],
   "source": [
    "df['tags'] = df['tags'].apply(lambda tag: tuple(val.lower() for val in tag.split(',')))\n",
    "\n",
    "print(df['tags'].head(5))"
   ]
  },
  {
   "cell_type": "markdown",
   "metadata": {
    "id": "d9ZSFspbwjFD"
   },
   "source": [
    "#### Duplicates\n",
    "\n"
   ]
  },
  {
   "cell_type": "code",
   "execution_count": null,
   "metadata": {
    "colab": {
     "base_uri": "https://localhost:8080/",
     "height": 34
    },
    "executionInfo": {
     "elapsed": 2059,
     "status": "ok",
     "timestamp": 1601650499231,
     "user": {
      "displayName": "Yatindra",
      "photoUrl": "https://lh3.googleusercontent.com/a-/AOh14GgyhRMwXEEqCncav1ghTui26QU38n9q8A3LHE_ktw=s64",
      "userId": "15503128090634612331"
     },
     "user_tz": -330
    },
    "id": "hZVufYjGwjFD",
    "outputId": "e96cbd12-d827-4af4-f89d-1ccc33fc7ac6"
   },
   "outputs": [
    {
     "name": "stdout",
     "output_type": "stream",
     "text": [
      "There were 0 duplicate rows.\n"
     ]
    }
   ],
   "source": [
    "print(\"There were %d duplicate rows.\" % (df.duplicated().sum()))\n",
    "\n",
    "df = df.drop_duplicates()"
   ]
  },
  {
   "cell_type": "code",
   "execution_count": null,
   "metadata": {
    "colab": {
     "base_uri": "https://localhost:8080/",
     "height": 436
    },
    "executionInfo": {
     "elapsed": 1337,
     "status": "ok",
     "timestamp": 1601650499232,
     "user": {
      "displayName": "Yatindra",
      "photoUrl": "https://lh3.googleusercontent.com/a-/AOh14GgyhRMwXEEqCncav1ghTui26QU38n9q8A3LHE_ktw=s64",
      "userId": "15503128090634612331"
     },
     "user_tz": -330
    },
    "id": "y9DDv9yJwjFF",
    "outputId": "2e0e50f5-91e0-4e48-b065-2387dfef7d32"
   },
   "outputs": [
    {
     "name": "stdout",
     "output_type": "stream",
     "text": [
      "There were 198 rows with duplicate ('merchant_id', 'product_id') features.\n"
     ]
    },
    {
     "data": {
      "text/html": [
       "<div>\n",
       "<style scoped>\n",
       "    .dataframe tbody tr th:only-of-type {\n",
       "        vertical-align: middle;\n",
       "    }\n",
       "\n",
       "    .dataframe tbody tr th {\n",
       "        vertical-align: top;\n",
       "    }\n",
       "\n",
       "    .dataframe thead th {\n",
       "        text-align: right;\n",
       "    }\n",
       "</style>\n",
       "<table border=\"1\" class=\"dataframe\">\n",
       "  <thead>\n",
       "    <tr style=\"text-align: right;\">\n",
       "      <th></th>\n",
       "      <th>merchant_id</th>\n",
       "      <th>product_id</th>\n",
       "    </tr>\n",
       "  </thead>\n",
       "  <tbody>\n",
       "    <tr>\n",
       "      <th>62</th>\n",
       "      <td>5ab3b592c3911a095ad5dadb</td>\n",
       "      <td>5ebf5819ebac372b070b0e70</td>\n",
       "    </tr>\n",
       "    <tr>\n",
       "      <th>91</th>\n",
       "      <td>53f6b7c81c105e2dfac91041</td>\n",
       "      <td>5d5d038d99df1e17cc9313cf</td>\n",
       "    </tr>\n",
       "    <tr>\n",
       "      <th>98</th>\n",
       "      <td>566eaa533a698c6442549a74</td>\n",
       "      <td>5d1db3c0e2b5cc0f74e091af</td>\n",
       "    </tr>\n",
       "    <tr>\n",
       "      <th>140</th>\n",
       "      <td>55e7e41e606d0a18fdfc67d1</td>\n",
       "      <td>5aec22cec25735338c544690</td>\n",
       "    </tr>\n",
       "    <tr>\n",
       "      <th>162</th>\n",
       "      <td>5e61c817039ce2184a0ed392</td>\n",
       "      <td>5e9a74e447f7d92c8db8d14b</td>\n",
       "    </tr>\n",
       "    <tr>\n",
       "      <th>...</th>\n",
       "      <td>...</td>\n",
       "      <td>...</td>\n",
       "    </tr>\n",
       "    <tr>\n",
       "      <th>1559</th>\n",
       "      <td>5b0b907d59206904541886cf</td>\n",
       "      <td>5ea0f2a654446407c111b622</td>\n",
       "    </tr>\n",
       "    <tr>\n",
       "      <th>1562</th>\n",
       "      <td>56458aa03a698c35c9050988</td>\n",
       "      <td>5d58daef3159a812b05933d2</td>\n",
       "    </tr>\n",
       "    <tr>\n",
       "      <th>1566</th>\n",
       "      <td>593402ae25c4f54ed4e0abdf</td>\n",
       "      <td>5d1060d39ed281190dfcec91</td>\n",
       "    </tr>\n",
       "    <tr>\n",
       "      <th>1569</th>\n",
       "      <td>54d83b6b6b8a771e478558de</td>\n",
       "      <td>5eccd22b4497b86fd48f16b4</td>\n",
       "    </tr>\n",
       "    <tr>\n",
       "      <th>1571</th>\n",
       "      <td>5d56b32c40defd78043d5af9</td>\n",
       "      <td>5eda07ab0e295c2097c36590</td>\n",
       "    </tr>\n",
       "  </tbody>\n",
       "</table>\n",
       "<p>198 rows × 2 columns</p>\n",
       "</div>"
      ],
      "text/plain": [
       "                   merchant_id                product_id\n",
       "62    5ab3b592c3911a095ad5dadb  5ebf5819ebac372b070b0e70\n",
       "91    53f6b7c81c105e2dfac91041  5d5d038d99df1e17cc9313cf\n",
       "98    566eaa533a698c6442549a74  5d1db3c0e2b5cc0f74e091af\n",
       "140   55e7e41e606d0a18fdfc67d1  5aec22cec25735338c544690\n",
       "162   5e61c817039ce2184a0ed392  5e9a74e447f7d92c8db8d14b\n",
       "...                        ...                       ...\n",
       "1559  5b0b907d59206904541886cf  5ea0f2a654446407c111b622\n",
       "1562  56458aa03a698c35c9050988  5d58daef3159a812b05933d2\n",
       "1566  593402ae25c4f54ed4e0abdf  5d1060d39ed281190dfcec91\n",
       "1569  54d83b6b6b8a771e478558de  5eccd22b4497b86fd48f16b4\n",
       "1571  5d56b32c40defd78043d5af9  5eda07ab0e295c2097c36590\n",
       "\n",
       "[198 rows x 2 columns]"
      ]
     },
     "execution_count": 69,
     "metadata": {
      "tags": []
     },
     "output_type": "execute_result"
    }
   ],
   "source": [
    "duplicate_features = ['merchant_id', 'product_id']\n",
    "\n",
    "print(\"There were %d rows with duplicate %s features.\" % (df.duplicated(subset=duplicate_features).sum(), tuple(duplicate_features)))\n",
    "df[duplicate_features].where(df.duplicated(subset=duplicate_features) == True).dropna(axis=0)"
   ]
  },
  {
   "cell_type": "code",
   "execution_count": null,
   "metadata": {
    "id": "HVidaxWDwjFH"
   },
   "outputs": [],
   "source": [
    "df = df.drop_duplicates(subset=duplicate_features)"
   ]
  },
  {
   "cell_type": "code",
   "execution_count": null,
   "metadata": {
    "colab": {
     "base_uri": "https://localhost:8080/",
     "height": 578
    },
    "executionInfo": {
     "elapsed": 1602,
     "status": "ok",
     "timestamp": 1601650509226,
     "user": {
      "displayName": "Yatindra",
      "photoUrl": "https://lh3.googleusercontent.com/a-/AOh14GgyhRMwXEEqCncav1ghTui26QU38n9q8A3LHE_ktw=s64",
      "userId": "15503128090634612331"
     },
     "user_tz": -330
    },
    "id": "_9WhcknswjFK",
    "outputId": "1dfd4bec-d483-4606-ccb4-e46c175f803a"
   },
   "outputs": [
    {
     "name": "stdout",
     "output_type": "stream",
     "text": [
      "<class 'pandas.core.frame.DataFrame'>\n",
      "Int64Index: 1341 entries, 0 to 1572\n",
      "Data columns (total 26 columns):\n",
      " #   Column                       Non-Null Count  Dtype  \n",
      "---  ------                       --------------  -----  \n",
      " 0   title_translated             1341 non-null   object \n",
      " 1   listed_price                 1341 non-null   float64\n",
      " 2   retail_price                 1341 non-null   int64  \n",
      " 3   units_sold                   1341 non-null   int64  \n",
      " 4   uses_ad_boosts               1341 non-null   int64  \n",
      " 5   rating                       1341 non-null   float64\n",
      " 6   rating_count                 1341 non-null   int64  \n",
      " 7   rating_five_count            1341 non-null   float64\n",
      " 8   rating_four_count            1341 non-null   float64\n",
      " 9   rating_three_count           1341 non-null   float64\n",
      " 10  rating_two_count             1341 non-null   float64\n",
      " 11  rating_one_count             1341 non-null   float64\n",
      " 12  badge_product_quality        1341 non-null   int64  \n",
      " 13  tags                         1341 non-null   object \n",
      " 14  product_color                1341 non-null   object \n",
      " 15  product_variation_size_id    1341 non-null   object \n",
      " 16  product_variation_inventory  1341 non-null   int64  \n",
      " 17  shipping_option_price        1341 non-null   int64  \n",
      " 18  countries_shipped_to         1341 non-null   int64  \n",
      " 19  has_urgency_banner           1341 non-null   int64  \n",
      " 20  urgency_text                 1341 non-null   object \n",
      " 21  merchant_rating_count        1341 non-null   int64  \n",
      " 22  merchant_rating              1341 non-null   float64\n",
      " 23  merchant_id                  1341 non-null   object \n",
      " 24  product_picture              1341 non-null   object \n",
      " 25  product_id                   1341 non-null   object \n",
      "dtypes: float64(8), int64(10), object(8)\n",
      "memory usage: 282.9+ KB\n"
     ]
    }
   ],
   "source": [
    "df.info()"
   ]
  },
  {
   "cell_type": "code",
   "execution_count": null,
   "metadata": {
    "id": "x-mc7eXAwjFN"
   },
   "outputs": [],
   "source": [
    "df.to_csv(r'CleanDF.csv', index = False)"
   ]
  }
 ],
 "metadata": {
  "colab": {
   "collapsed_sections": [],
   "name": "1. Data PreProcessing.ipynb",
   "provenance": []
  },
  "kernelspec": {
   "display_name": "Python 3",
   "language": "python",
   "name": "python3"
  },
  "language_info": {
   "codemirror_mode": {
    "name": "ipython",
    "version": 3
   },
   "file_extension": ".py",
   "mimetype": "text/x-python",
   "name": "python",
   "nbconvert_exporter": "python",
   "pygments_lexer": "ipython3",
   "version": "3.7.9"
  }
 },
 "nbformat": 4,
 "nbformat_minor": 4
}
